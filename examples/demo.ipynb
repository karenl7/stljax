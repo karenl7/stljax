{
 "cells": [
  {
   "cell_type": "code",
   "execution_count": null,
   "metadata": {},
   "outputs": [],
   "source": [
    "import jax\n",
    "import jax.numpy as jnp\n",
    "import numpy as np\n",
    "import matplotlib.pyplot as plt\n",
    "from stljax.formula import *\n",
    "from stljax.viz import *\n",
    "\n",
    "import functools"
   ]
  },
  {
   "cell_type": "markdown",
   "metadata": {},
   "source": [
    "## NOTE\n",
    "If using Expressions to define formulas, `stljax` expects input signals to be of size `[time_dim]`.\n",
    "If using Predicates to define formulas, `stljax` expects input signals to be of size `[time_dim, state_dim]` where `state_dim` is the expected input size of your predicate function.\n",
    "\n"
   ]
  },
  {
   "cell_type": "code",
   "execution_count": null,
   "metadata": {},
   "outputs": [],
   "source": [
    "def compute_distance_to_origin(states):\n",
    "    return jnp.linalg.norm(states[...,:2], axis=-1, keepdims=False)"
   ]
  },
  {
   "cell_type": "code",
   "execution_count": null,
   "metadata": {},
   "outputs": [],
   "source": [
    "T = 10\n",
    "compute_distance_to_origin(jnp.ones([T, 2]))"
   ]
  },
  {
   "cell_type": "markdown",
   "metadata": {},
   "source": [
    "## Using Expressions\n",
    "Expressions are placeholders for input signals. Specifically, it is assuming the signal is already a 1D array, such as the output of a predicate function. \n",
    "\n",
    "This is useful if you have signals from predicates computed already. \n",
    "\n",
    "In general, this is useful for readability and visualization."
   ]
  },
  {
   "cell_type": "code",
   "execution_count": null,
   "metadata": {},
   "outputs": [],
   "source": [
    "distance_to_origin_exp = Expression(\"magnitude\", value=None) # can define an Expression without setting values for the expression right now\n",
    "formula_exp = Eventually(distance_to_origin_exp < 0.5) # can define an STL formula given an expression, again, the value of the expression does not need to be set yet\n",
    "\n",
    "\n",
    "formula_exp(distance_to_origin_exp) # <---- this will throw an error since the expression does not have values set yet\n",
    "\n"
   ]
  },
  {
   "cell_type": "code",
   "execution_count": null,
   "metadata": {},
   "outputs": [],
   "source": [
    "# so let's go ahead and set a value for the expression\n",
    "T = 5\n",
    "states = jnp.array(np.random.randn(T, 2))\n",
    "states_norm = compute_distance_to_origin(states)   # compute distance to origin\n",
    "\n",
    "distance_to_origin_exp.set_value(states_norm)   # set value for Expression\n",
    "\n",
    "# compute robustness trace\n",
    "formula_exp(distance_to_origin_exp) # <---- this will no longer throw an error since the expression has a value set\n",
    "\n",
    "# alternatively, we can directly plug any jnp.array and evaluate the robustness without \n",
    "states2 = jnp.array(np.random.randn(T, 2))\n",
    "states_norm2 = compute_distance_to_origin(states2)   # compute distance to origin\n",
    "formula_exp(states_norm2) \n",
    "\n"
   ]
  },
  {
   "cell_type": "markdown",
   "metadata": {},
   "source": [
    "We can compute the robustness value (instead of trace) and take the derivative"
   ]
  },
  {
   "cell_type": "code",
   "execution_count": null,
   "metadata": {},
   "outputs": [],
   "source": [
    "robustness = formula_exp.robustness(states_norm) \n",
    "print(f\"Robustness value: {robustness:.3f}\\n\")\n",
    "\n",
    "gradient = jax.grad(formula_exp.robustness)(states_norm) \n",
    "print(f\"Gradient of robustness value w.r.t. input:\\n {gradient}\")\n"
   ]
  },
  {
   "cell_type": "markdown",
   "metadata": {},
   "source": [
    "We can apply a smooth max/min approximation by selecting a `approx_method` and `temperature`.\n",
    "The default `approx_method` is `true`.\n"
   ]
  },
  {
   "cell_type": "code",
   "execution_count": null,
   "metadata": {},
   "outputs": [],
   "source": [
    "approx_method = \"logsumexp\"  # or \"softmax\"\n",
    "temperature = 1. # needs to be > 0\n",
    "\n",
    "robustness = formula_exp.robustness(states_norm, approx_method=approx_method, temperature=temperature) \n",
    "print(f\"Robustness value: {robustness:.3f}\\n\")\n",
    "\n",
    "gradient = jax.grad(formula_exp.robustness)(states_norm, approx_method=approx_method, temperature=temperature) \n",
    "print(f\"Gradient of robustness value w.r.t. input:\\n {gradient}\") # <----- gradients are spread across different values"
   ]
  },
  {
   "cell_type": "markdown",
   "metadata": {},
   "source": [
    "For formulas that are defined with two different Expressions, we need to be careful about the signals we are feeding in."
   ]
  },
  {
   "cell_type": "code",
   "execution_count": null,
   "metadata": {},
   "outputs": [],
   "source": [
    "# if both subformulas use the same signal, then we can do this\n",
    "phi = (distance_to_origin_exp > 0) & (distance_to_origin_exp < 0.5)  \n",
    "phi(states_norm)\n",
    "\n",
    "\n",
    "# if the formula depends on two different signals, then we need to provide the two signals as tuple\n",
    "distance_to_origin_exp = Expression(\"magnitude\", value=None)\n",
    "speed_exp = Expression(\"speed\", value=None)\n",
    "\n",
    "phi = (distance_to_origin_exp > 0) & (speed_exp < 0.5)  \n",
    "\n",
    "phi(states_norm) # <--- Will give WRONG ANSWER\n",
    "\n",
    "\n",
    "speed = jnp.array(np.random.randn(T))\n",
    "input_correct_order = (states_norm, speed)\n",
    "input_wrong_order = (speed, states_norm)\n",
    "phi(input_correct_order) # <--- Will give desired answer\n",
    "phi(input_wrong_order) # <--- Will give WRONG ANSWER since the ordering of the input does not correspond to how phi is defined\n",
    "\n",
    "\n"
   ]
  },
  {
   "cell_type": "markdown",
   "metadata": {},
   "source": [
    "## Using Predicates\n",
    "Predicates are the functions that an N-D signal is passed through and its outputs are then passed through each operation of the STL formula.\n",
    "We can construct an STL formula by specifying the predicate functions and the connectives and temporal operations.\n"
   ]
  },
  {
   "cell_type": "code",
   "execution_count": null,
   "metadata": {},
   "outputs": [],
   "source": [
    "distance_to_origin_pred = Predicate(\"magnitude\", predicate_function=compute_distance_to_origin) # define a predicate function with a name and the function\n",
    "formula_pred = Eventually(distance_to_origin_pred < 0.5) # define the STL formula\n",
    "\n",
    "# so let's go ahead and set a value for the input N-D array which will be the input into the predicate function.\n",
    "T = 5\n",
    "states = jnp.array(np.random.randn(T, 2))  # 2D signal\n",
    "output_from_using_predicate = formula_pred(states) # compute distance to origin INSIDE \n",
    "\n",
    "\n",
    "# NOTE: this is equivalent to the following with expressions\n",
    "states_norm = compute_distance_to_origin(states)   # computes distance to origin OUTSIDE \n",
    "output_from_using_expression = formula_exp(states_norm) \n",
    "\n",
    "\n",
    "# check if we get the same answer\n",
    "jnp.isclose(output_from_using_predicate, output_from_using_expression)"
   ]
  },
  {
   "cell_type": "markdown",
   "metadata": {},
   "source": [
    "Similarly, we can compute the robustness value (instead of trace) and take the derivative. "
   ]
  },
  {
   "cell_type": "code",
   "execution_count": null,
   "metadata": {},
   "outputs": [],
   "source": [
    "approx_method = \"logsumexp\"  # or \"softmax\"\n",
    "temperature = 1. # needs to be > 0\n",
    "\n",
    "robustness = formula_pred.robustness(states, approx_method=approx_method, temperature=temperature) \n",
    "print(f\"Robustness value: {robustness:.3f}\\n\")\n",
    "\n",
    "gradient = jax.grad(formula_pred.robustness)(states, approx_method=approx_method, temperature=temperature) \n",
    "print(f\"Gradient of robustness value w.r.t. input:\\n {gradient}\") # <----- gradients are spread across different values"
   ]
  },
  {
   "cell_type": "markdown",
   "metadata": {},
   "source": [
    "Note that when taken gradients with formulas defined with predicates, the input is the N-D signal which is passed into the predicate function and other robustness formulas. That is to say, the gradient will be influenced by the choice of the predicate. \n",
    "\n",
    "To get the same gradient output when using Expressions, we need to do the following:"
   ]
  },
  {
   "cell_type": "code",
   "execution_count": null,
   "metadata": {},
   "outputs": [],
   "source": [
    "def foo(states):\n",
    "    states_norm = compute_distance_to_origin(states)   # compute distance to origin\n",
    "    return formula_exp.robustness(states_norm, approx_method=approx_method, temperature=temperature) \n",
    "\n",
    "jax.grad(foo)(states)"
   ]
  },
  {
   "cell_type": "code",
   "execution_count": null,
   "metadata": {},
   "outputs": [],
   "source": []
  }
 ],
 "metadata": {
  "kernelspec": {
   "display_name": "test",
   "language": "python",
   "name": "python3"
  },
  "language_info": {
   "codemirror_mode": {
    "name": "ipython",
    "version": 3
   },
   "file_extension": ".py",
   "mimetype": "text/x-python",
   "name": "python",
   "nbconvert_exporter": "python",
   "pygments_lexer": "ipython3",
   "version": "3.12.9"
  }
 },
 "nbformat": 4,
 "nbformat_minor": 2
}
