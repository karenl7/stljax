{
 "cells": [
  {
   "cell_type": "code",
   "execution_count": 1,
   "metadata": {},
   "outputs": [],
   "source": [
    "%load_ext autoreload\n",
    "%autoreload 2\n",
    "\n"
   ]
  },
  {
   "cell_type": "code",
   "execution_count": 2,
   "metadata": {},
   "outputs": [],
   "source": [
    "import jax\n",
    "from stljax.formula import *\n",
    "import numpy as np\n"
   ]
  },
  {
   "cell_type": "code",
   "execution_count": 2,
   "metadata": {},
   "outputs": [],
   "source": [
    "class UntilRecurrent2(STL_Formula):\n",
    "    \"\"\"\n",
    "    The Until STL operator U. Subformula1 U_[a,b] subformula2\n",
    "    Arg:\n",
    "        subformula1: subformula for lhs of the Until operation\n",
    "        subformula2: subformula for rhs of the Until operation\n",
    "        interval: time interval [a,b] where a, b are indices along the time dimension. It is up to the user to keep track of what the timestep is.\n",
    "        overlap: If overlap=True, then the last time step that ϕ is true, ψ starts being true. That is, sₜ ⊧ ϕ and sₜ ⊧ ψ at a common time t. If overlap=False, when ϕ stops being true, ψ starts being true. That is sₜ ⊧ ϕ and sₜ+₁ ⊧ ψ, but sₜ ¬⊧ ψ\n",
    "    \"\"\"\n",
    "\n",
    "    def __init__(self, subformula1, subformula2, interval=None, overlap=True):\n",
    "        super().__init__()\n",
    "        self.subformula1 = subformula1\n",
    "        self.subformula2 = subformula2\n",
    "        self.interval = interval\n",
    "        if overlap == False:\n",
    "            self.subformula2 = Eventually(subformula=subformula2, interval=[0,1])\n",
    "        self.LARGE_NUMBER = 1E9\n",
    "\n",
    "    def robustness_trace(self, signal, **kwargs):\n",
    "        \"\"\"\n",
    "        Computing robustness trace of subformula1 U subformula2  (see paper)\n",
    "\n",
    "        Args:\n",
    "            signal: input signal for the formula. If using Expressions to define the formula, then inputs a tuple of signals corresponding to each subformula. If using Predicates to define the formula, then inputs is just a single jnp.array. Not need for different signals for each subformula. Expected signal is size [batch_size, time_dim, x_dim]\n",
    "            time_dim: axis for time_dim. Default: 1\n",
    "            kwargs: Other arguments including time_dim, approx_method, temperature\n",
    "\n",
    "        Returns:\n",
    "            robustness_trace: jnp.array. Same size as signal.\n",
    "        \"\"\"\n",
    "\n",
    "\n",
    "        # TODO (karenl7) this really assumes axis=1 is the time dimension. Can this be generalized?\n",
    "        time_dim = 0  # assuming signal is [time_dim,...]\n",
    "        LARGE_NUMBER = self.LARGE_NUMBER\n",
    "\n",
    "        if isinstance(signal, tuple):\n",
    "            # for formula defined using Expression\n",
    "            assert signal[0].shape[time_dim] == signal[1].shape[time_dim]\n",
    "            trace1 = self.subformula1(signal[0], **kwargs)\n",
    "            trace2 = self.subformula2(signal[1], **kwargs)\n",
    "            n_time_steps = signal[0].shape[time_dim] # TODO: WIP\n",
    "        else:\n",
    "            # for formula defined using Predicate\n",
    "            trace1 = self.subformula1(signal, **kwargs)\n",
    "            trace2 = self.subformula2(signal, **kwargs)\n",
    "            n_time_steps = signal.shape[time_dim] # TODO: WIP\n",
    "\n",
    "        Alw = AlwaysRecurrent(subformula=Identity(name=str(self.subformula1)))\n",
    "        LHS = jnp.permute_dims(jnp.repeat(jnp.expand_dims(trace2, -1), n_time_steps, axis=-1), [1,0])  # [sub_signal, t_prime]\n",
    "        RHS = jnp.ones_like(LHS) * -LARGE_NUMBER  # [sub_signal, t_prime]\n",
    "\n",
    "        # Case 1, interval = [0, inf]\n",
    "        if self.interval == None:\n",
    "            for i in range(n_time_steps):\n",
    "                RHS = RHS.at[i:,i].set(Alw(trace1[i:], **kwargs))\n",
    "\n",
    "        # Case 2 and 4: self.interval is [a, b], a ≥ 0, b < ∞\n",
    "        elif self.interval[1] < jnp.inf:\n",
    "            a = self.interval[0]\n",
    "            b = self.interval[1]\n",
    "            for i in range(n_time_steps):\n",
    "                end = i+b+1\n",
    "                RHS = RHS.at[i+a:end,i].set(Alw(trace1[i:end], **kwargs)[a:])\n",
    "\n",
    "        # Case 3: self.interval is [a, np.inf), a ≂̸ 0\n",
    "        else:\n",
    "            a = self.interval[0]\n",
    "            for i in range(n_time_steps):\n",
    "                RHS = RHS.at[i+a:,i].set(Alw(trace1[i:], **kwargs)[a:])\n",
    "\n",
    "        return maxish(minish(jnp.stack([LHS, RHS], axis=-1), axis=-1, keepdims=False, **kwargs), axis=-1, keepdims=False, **kwargs)\n",
    "\n",
    "    def robustness(self, signal, **kwargs):\n",
    "        \"\"\"\n",
    "        Computes the robustness value. Extracts the last entry along time_dim of robustness trace.\n",
    "\n",
    "        Args:\n",
    "            signal: jnp.array or Expression. Expected size [bs, time_dim, state_dim]\n",
    "            kwargs: Other arguments including time_dim, approx_method, temperature\n",
    "\n",
    "        Return: jnp.array, same as input with the time_dim removed.\n",
    "        \"\"\"\n",
    "        return self.__call__(signal, **kwargs)[-1]\n",
    "        # return jnp.rollaxis(self.__call__(signal, **kwargs), time_dim)[-1]\n",
    "\n",
    "    def _next_function(self):\n",
    "        \"\"\" next function is the input subformulas. For visualization purposes \"\"\"\n",
    "        return [self.subformula1, self.subformula2]\n",
    "\n",
    "    def __str__(self):\n",
    "        return  \"(\" + str(self.subformula1) + \")\" + \" U \" + \"(\" + str(self.subformula2) + \")\"\n",
    "\n"
   ]
  },
  {
   "cell_type": "code",
   "execution_count": 390,
   "metadata": {},
   "outputs": [],
   "source": [
    "# analyzing gradients\n",
    "interval = None\n",
    "pred = Predicate('x', lambda x: x)\n",
    "rec = UntilRecurrent(pred > 0., pred < 5., interval=interval)\n",
    "# rec2 = UntilRecurrent2(pred > 0., pred > 0., interval=interval)\n",
    "\n",
    "ev = Until(pred > 0., pred < 5., interval=interval)\n",
    "\n",
    "rec_jit = jax.jit(rec.robustness)\n",
    "# rec2_jit = jax.jit(rec2.robustness)\n",
    "ev_jit = jax.jit(ev.robustness)\n"
   ]
  },
  {
   "cell_type": "code",
   "execution_count": 388,
   "metadata": {},
   "outputs": [],
   "source": [
    "T = 128\n",
    "bs = 32\n",
    "signal = jnp.array(np.random.randn(bs, T)) * 1.\n",
    "signal_flip = jnp.flip(signal)\n"
   ]
  },
  {
   "cell_type": "code",
   "execution_count": 389,
   "metadata": {},
   "outputs": [
    {
     "ename": "KeyboardInterrupt",
     "evalue": "",
     "output_type": "error",
     "traceback": [
      "\u001b[0;31m---------------------------------------------------------------------------\u001b[0m",
      "\u001b[0;31mKeyboardInterrupt\u001b[0m                         Traceback (most recent call last)",
      "Cell \u001b[0;32mIn[389], line 1\u001b[0m\n\u001b[0;32m----> 1\u001b[0m \u001b[43mget_ipython\u001b[49m\u001b[43m(\u001b[49m\u001b[43m)\u001b[49m\u001b[38;5;241;43m.\u001b[39;49m\u001b[43mrun_line_magic\u001b[49m\u001b[43m(\u001b[49m\u001b[38;5;124;43m'\u001b[39;49m\u001b[38;5;124;43mtimeit\u001b[39;49m\u001b[38;5;124;43m'\u001b[39;49m\u001b[43m,\u001b[49m\u001b[43m \u001b[49m\u001b[38;5;124;43m'\u001b[39;49m\u001b[38;5;124;43mjax.vmap(jax.grad(rec_jit))(signal)\u001b[39;49m\u001b[38;5;124;43m'\u001b[39;49m\u001b[43m)\u001b[49m\n\u001b[1;32m      2\u001b[0m get_ipython()\u001b[38;5;241m.\u001b[39mrun_line_magic(\u001b[38;5;124m'\u001b[39m\u001b[38;5;124mtimeit\u001b[39m\u001b[38;5;124m'\u001b[39m, \u001b[38;5;124m'\u001b[39m\u001b[38;5;124mjax.vmap(jax.grad(rec2_jit))(signal)\u001b[39m\u001b[38;5;124m'\u001b[39m)\n\u001b[1;32m      3\u001b[0m get_ipython()\u001b[38;5;241m.\u001b[39mrun_line_magic(\u001b[38;5;124m'\u001b[39m\u001b[38;5;124mtimeit\u001b[39m\u001b[38;5;124m'\u001b[39m, \u001b[38;5;124m'\u001b[39m\u001b[38;5;124mjax.vmap(jax.grad(ev_jit))(signal)\u001b[39m\u001b[38;5;124m'\u001b[39m)\n",
      "File \u001b[0;32m~/venvs/test/lib/python3.12/site-packages/IPython/core/interactiveshell.py:2480\u001b[0m, in \u001b[0;36mInteractiveShell.run_line_magic\u001b[0;34m(self, magic_name, line, _stack_depth)\u001b[0m\n\u001b[1;32m   2478\u001b[0m     kwargs[\u001b[38;5;124m'\u001b[39m\u001b[38;5;124mlocal_ns\u001b[39m\u001b[38;5;124m'\u001b[39m] \u001b[38;5;241m=\u001b[39m \u001b[38;5;28mself\u001b[39m\u001b[38;5;241m.\u001b[39mget_local_scope(stack_depth)\n\u001b[1;32m   2479\u001b[0m \u001b[38;5;28;01mwith\u001b[39;00m \u001b[38;5;28mself\u001b[39m\u001b[38;5;241m.\u001b[39mbuiltin_trap:\n\u001b[0;32m-> 2480\u001b[0m     result \u001b[38;5;241m=\u001b[39m \u001b[43mfn\u001b[49m\u001b[43m(\u001b[49m\u001b[38;5;241;43m*\u001b[39;49m\u001b[43margs\u001b[49m\u001b[43m,\u001b[49m\u001b[43m \u001b[49m\u001b[38;5;241;43m*\u001b[39;49m\u001b[38;5;241;43m*\u001b[39;49m\u001b[43mkwargs\u001b[49m\u001b[43m)\u001b[49m\n\u001b[1;32m   2482\u001b[0m \u001b[38;5;66;03m# The code below prevents the output from being displayed\u001b[39;00m\n\u001b[1;32m   2483\u001b[0m \u001b[38;5;66;03m# when using magics with decorator @output_can_be_silenced\u001b[39;00m\n\u001b[1;32m   2484\u001b[0m \u001b[38;5;66;03m# when the last Python token in the expression is a ';'.\u001b[39;00m\n\u001b[1;32m   2485\u001b[0m \u001b[38;5;28;01mif\u001b[39;00m \u001b[38;5;28mgetattr\u001b[39m(fn, magic\u001b[38;5;241m.\u001b[39mMAGIC_OUTPUT_CAN_BE_SILENCED, \u001b[38;5;28;01mFalse\u001b[39;00m):\n",
      "File \u001b[0;32m~/venvs/test/lib/python3.12/site-packages/IPython/core/magics/execution.py:1185\u001b[0m, in \u001b[0;36mExecutionMagics.timeit\u001b[0;34m(self, line, cell, local_ns)\u001b[0m\n\u001b[1;32m   1183\u001b[0m \u001b[38;5;28;01mfor\u001b[39;00m index \u001b[38;5;129;01min\u001b[39;00m \u001b[38;5;28mrange\u001b[39m(\u001b[38;5;241m0\u001b[39m, \u001b[38;5;241m10\u001b[39m):\n\u001b[1;32m   1184\u001b[0m     number \u001b[38;5;241m=\u001b[39m \u001b[38;5;241m10\u001b[39m \u001b[38;5;241m*\u001b[39m\u001b[38;5;241m*\u001b[39m index\n\u001b[0;32m-> 1185\u001b[0m     time_number \u001b[38;5;241m=\u001b[39m \u001b[43mtimer\u001b[49m\u001b[38;5;241;43m.\u001b[39;49m\u001b[43mtimeit\u001b[49m\u001b[43m(\u001b[49m\u001b[43mnumber\u001b[49m\u001b[43m)\u001b[49m\n\u001b[1;32m   1186\u001b[0m     \u001b[38;5;28;01mif\u001b[39;00m time_number \u001b[38;5;241m>\u001b[39m\u001b[38;5;241m=\u001b[39m \u001b[38;5;241m0.2\u001b[39m:\n\u001b[1;32m   1187\u001b[0m         \u001b[38;5;28;01mbreak\u001b[39;00m\n",
      "File \u001b[0;32m~/venvs/test/lib/python3.12/site-packages/IPython/core/magics/execution.py:173\u001b[0m, in \u001b[0;36mTimer.timeit\u001b[0;34m(self, number)\u001b[0m\n\u001b[1;32m    171\u001b[0m gc\u001b[38;5;241m.\u001b[39mdisable()\n\u001b[1;32m    172\u001b[0m \u001b[38;5;28;01mtry\u001b[39;00m:\n\u001b[0;32m--> 173\u001b[0m     timing \u001b[38;5;241m=\u001b[39m \u001b[38;5;28;43mself\u001b[39;49m\u001b[38;5;241;43m.\u001b[39;49m\u001b[43minner\u001b[49m\u001b[43m(\u001b[49m\u001b[43mit\u001b[49m\u001b[43m,\u001b[49m\u001b[43m \u001b[49m\u001b[38;5;28;43mself\u001b[39;49m\u001b[38;5;241;43m.\u001b[39;49m\u001b[43mtimer\u001b[49m\u001b[43m)\u001b[49m\n\u001b[1;32m    174\u001b[0m \u001b[38;5;28;01mfinally\u001b[39;00m:\n\u001b[1;32m    175\u001b[0m     \u001b[38;5;28;01mif\u001b[39;00m gcold:\n",
      "File \u001b[0;32m<magic-timeit>:1\u001b[0m, in \u001b[0;36minner\u001b[0;34m(_it, _timer)\u001b[0m\n",
      "    \u001b[0;31m[... skipping hidden 1 frame]\u001b[0m\n",
      "File \u001b[0;32m~/venvs/test/lib/python3.12/site-packages/jax/_src/api.py:1214\u001b[0m, in \u001b[0;36mvmap.<locals>.vmap_f\u001b[0;34m(*args, **kwargs)\u001b[0m\n\u001b[1;32m   1211\u001b[0m in_axes_flat \u001b[38;5;241m=\u001b[39m flatten_axes(\u001b[38;5;124m\"\u001b[39m\u001b[38;5;124mvmap in_axes\u001b[39m\u001b[38;5;124m\"\u001b[39m, in_tree, (in_axes, \u001b[38;5;241m0\u001b[39m), kws\u001b[38;5;241m=\u001b[39m\u001b[38;5;28;01mTrue\u001b[39;00m)\n\u001b[1;32m   1212\u001b[0m axis_size_ \u001b[38;5;241m=\u001b[39m (axis_size \u001b[38;5;28;01mif\u001b[39;00m axis_size \u001b[38;5;129;01mis\u001b[39;00m \u001b[38;5;129;01mnot\u001b[39;00m \u001b[38;5;28;01mNone\u001b[39;00m \u001b[38;5;28;01melse\u001b[39;00m\n\u001b[1;32m   1213\u001b[0m               _mapped_axis_size(fun, in_tree, args_flat, in_axes_flat, \u001b[38;5;124m\"\u001b[39m\u001b[38;5;124mvmap\u001b[39m\u001b[38;5;124m\"\u001b[39m))\n\u001b[0;32m-> 1214\u001b[0m out_flat \u001b[38;5;241m=\u001b[39m \u001b[43mbatching\u001b[49m\u001b[38;5;241;43m.\u001b[39;49m\u001b[43mbatch\u001b[49m\u001b[43m(\u001b[49m\n\u001b[1;32m   1215\u001b[0m \u001b[43m    \u001b[49m\u001b[43mflat_fun\u001b[49m\u001b[43m,\u001b[49m\u001b[43m \u001b[49m\u001b[43maxis_name\u001b[49m\u001b[43m,\u001b[49m\u001b[43m \u001b[49m\u001b[43maxis_size_\u001b[49m\u001b[43m,\u001b[49m\u001b[43m \u001b[49m\u001b[43min_axes_flat\u001b[49m\u001b[43m,\u001b[49m\n\u001b[1;32m   1216\u001b[0m \u001b[43m    \u001b[49m\u001b[38;5;28;43;01mlambda\u001b[39;49;00m\u001b[43m:\u001b[49m\u001b[43m \u001b[49m\u001b[43mflatten_axes\u001b[49m\u001b[43m(\u001b[49m\u001b[38;5;124;43m\"\u001b[39;49m\u001b[38;5;124;43mvmap out_axes\u001b[39;49m\u001b[38;5;124;43m\"\u001b[39;49m\u001b[43m,\u001b[49m\u001b[43m \u001b[49m\u001b[43mout_tree\u001b[49m\u001b[43m(\u001b[49m\u001b[43m)\u001b[49m\u001b[43m,\u001b[49m\u001b[43m \u001b[49m\u001b[43mout_axes\u001b[49m\u001b[43m)\u001b[49m\u001b[43m,\u001b[49m\n\u001b[1;32m   1217\u001b[0m \u001b[43m    \u001b[49m\u001b[43mspmd_axis_name\u001b[49m\u001b[38;5;241;43m=\u001b[39;49m\u001b[43mspmd_axis_name\u001b[49m\n\u001b[1;32m   1218\u001b[0m \u001b[43m\u001b[49m\u001b[43m)\u001b[49m\u001b[38;5;241;43m.\u001b[39;49m\u001b[43mcall_wrapped\u001b[49m\u001b[43m(\u001b[49m\u001b[38;5;241;43m*\u001b[39;49m\u001b[43margs_flat\u001b[49m\u001b[43m)\u001b[49m\n\u001b[1;32m   1219\u001b[0m \u001b[38;5;28;01mreturn\u001b[39;00m tree_unflatten(out_tree(), out_flat)\n",
      "File \u001b[0;32m~/venvs/test/lib/python3.12/site-packages/jax/_src/linear_util.py:192\u001b[0m, in \u001b[0;36mWrappedFun.call_wrapped\u001b[0;34m(self, *args, **kwargs)\u001b[0m\n\u001b[1;32m    189\u001b[0m gen \u001b[38;5;241m=\u001b[39m gen_static_args \u001b[38;5;241m=\u001b[39m out_store \u001b[38;5;241m=\u001b[39m \u001b[38;5;28;01mNone\u001b[39;00m\n\u001b[1;32m    191\u001b[0m \u001b[38;5;28;01mtry\u001b[39;00m:\n\u001b[0;32m--> 192\u001b[0m   ans \u001b[38;5;241m=\u001b[39m \u001b[38;5;28;43mself\u001b[39;49m\u001b[38;5;241;43m.\u001b[39;49m\u001b[43mf\u001b[49m\u001b[43m(\u001b[49m\u001b[38;5;241;43m*\u001b[39;49m\u001b[43margs\u001b[49m\u001b[43m,\u001b[49m\u001b[43m \u001b[49m\u001b[38;5;241;43m*\u001b[39;49m\u001b[38;5;241;43m*\u001b[39;49m\u001b[38;5;28;43mdict\u001b[39;49m\u001b[43m(\u001b[49m\u001b[38;5;28;43mself\u001b[39;49m\u001b[38;5;241;43m.\u001b[39;49m\u001b[43mparams\u001b[49m\u001b[43m,\u001b[49m\u001b[43m \u001b[49m\u001b[38;5;241;43m*\u001b[39;49m\u001b[38;5;241;43m*\u001b[39;49m\u001b[43mkwargs\u001b[49m\u001b[43m)\u001b[49m\u001b[43m)\u001b[49m\n\u001b[1;32m    193\u001b[0m \u001b[38;5;28;01mexcept\u001b[39;00m:\n\u001b[1;32m    194\u001b[0m   \u001b[38;5;66;03m# Some transformations yield from inside context managers, so we have to\u001b[39;00m\n\u001b[1;32m    195\u001b[0m   \u001b[38;5;66;03m# interrupt them before reraising the exception. Otherwise they will only\u001b[39;00m\n\u001b[1;32m    196\u001b[0m   \u001b[38;5;66;03m# get garbage-collected at some later time, running their cleanup tasks\u001b[39;00m\n\u001b[1;32m    197\u001b[0m   \u001b[38;5;66;03m# only after this exception is handled, which can corrupt the global\u001b[39;00m\n\u001b[1;32m    198\u001b[0m   \u001b[38;5;66;03m# state.\u001b[39;00m\n\u001b[1;32m    199\u001b[0m   \u001b[38;5;28;01mwhile\u001b[39;00m stack:\n",
      "    \u001b[0;31m[... skipping hidden 1 frame]\u001b[0m\n",
      "File \u001b[0;32m~/venvs/test/lib/python3.12/site-packages/jax/_src/api.py:621\u001b[0m, in \u001b[0;36mgrad.<locals>.grad_f\u001b[0;34m(*args, **kwargs)\u001b[0m\n\u001b[1;32m    618\u001b[0m \u001b[38;5;129m@wraps\u001b[39m(fun, docstr\u001b[38;5;241m=\u001b[39mdocstr, argnums\u001b[38;5;241m=\u001b[39margnums)\n\u001b[1;32m    619\u001b[0m \u001b[38;5;129m@api_boundary\u001b[39m\n\u001b[1;32m    620\u001b[0m \u001b[38;5;28;01mdef\u001b[39;00m \u001b[38;5;21mgrad_f\u001b[39m(\u001b[38;5;241m*\u001b[39margs, \u001b[38;5;241m*\u001b[39m\u001b[38;5;241m*\u001b[39mkwargs):\n\u001b[0;32m--> 621\u001b[0m   _, g \u001b[38;5;241m=\u001b[39m \u001b[43mvalue_and_grad_f\u001b[49m\u001b[43m(\u001b[49m\u001b[38;5;241;43m*\u001b[39;49m\u001b[43margs\u001b[49m\u001b[43m,\u001b[49m\u001b[43m \u001b[49m\u001b[38;5;241;43m*\u001b[39;49m\u001b[38;5;241;43m*\u001b[39;49m\u001b[43mkwargs\u001b[49m\u001b[43m)\u001b[49m\n\u001b[1;32m    622\u001b[0m   \u001b[38;5;28;01mreturn\u001b[39;00m g\n",
      "    \u001b[0;31m[... skipping hidden 1 frame]\u001b[0m\n",
      "File \u001b[0;32m~/venvs/test/lib/python3.12/site-packages/jax/_src/api.py:691\u001b[0m, in \u001b[0;36mvalue_and_grad.<locals>.value_and_grad_f\u001b[0;34m(*args, **kwargs)\u001b[0m\n\u001b[1;32m    689\u001b[0m   _check_input_dtype_grad(holomorphic, allow_int, leaf)\n\u001b[1;32m    690\u001b[0m \u001b[38;5;28;01mif\u001b[39;00m \u001b[38;5;129;01mnot\u001b[39;00m has_aux:\n\u001b[0;32m--> 691\u001b[0m   ans, vjp_py \u001b[38;5;241m=\u001b[39m \u001b[43m_vjp\u001b[49m\u001b[43m(\u001b[49m\u001b[43mf_partial\u001b[49m\u001b[43m,\u001b[49m\u001b[43m \u001b[49m\u001b[38;5;241;43m*\u001b[39;49m\u001b[43mdyn_args\u001b[49m\u001b[43m)\u001b[49m\n\u001b[1;32m    692\u001b[0m \u001b[38;5;28;01melse\u001b[39;00m:\n\u001b[1;32m    693\u001b[0m   ans, vjp_py, aux \u001b[38;5;241m=\u001b[39m _vjp(\n\u001b[1;32m    694\u001b[0m       f_partial, \u001b[38;5;241m*\u001b[39mdyn_args, has_aux\u001b[38;5;241m=\u001b[39m\u001b[38;5;28;01mTrue\u001b[39;00m)\n",
      "File \u001b[0;32m~/venvs/test/lib/python3.12/site-packages/jax/_src/api.py:2176\u001b[0m, in \u001b[0;36m_vjp\u001b[0;34m(fun, has_aux, *primals)\u001b[0m\n\u001b[1;32m   2174\u001b[0m \u001b[38;5;28;01mif\u001b[39;00m \u001b[38;5;129;01mnot\u001b[39;00m has_aux:\n\u001b[1;32m   2175\u001b[0m   flat_fun, out_tree \u001b[38;5;241m=\u001b[39m flatten_fun_nokwargs(fun, in_tree)\n\u001b[0;32m-> 2176\u001b[0m   out_primals, vjp \u001b[38;5;241m=\u001b[39m \u001b[43mad\u001b[49m\u001b[38;5;241;43m.\u001b[39;49m\u001b[43mvjp\u001b[49m\u001b[43m(\u001b[49m\u001b[43mflat_fun\u001b[49m\u001b[43m,\u001b[49m\u001b[43m \u001b[49m\u001b[43mprimals_flat\u001b[49m\u001b[43m)\u001b[49m\n\u001b[1;32m   2177\u001b[0m   out_tree \u001b[38;5;241m=\u001b[39m out_tree()\n\u001b[1;32m   2178\u001b[0m \u001b[38;5;28;01melse\u001b[39;00m:\n",
      "File \u001b[0;32m~/venvs/test/lib/python3.12/site-packages/jax/_src/interpreters/ad.py:143\u001b[0m, in \u001b[0;36mvjp\u001b[0;34m(traceable, primals, has_aux)\u001b[0m\n\u001b[1;32m    141\u001b[0m \u001b[38;5;28;01mdef\u001b[39;00m \u001b[38;5;21mvjp\u001b[39m(traceable, primals, has_aux\u001b[38;5;241m=\u001b[39m\u001b[38;5;28;01mFalse\u001b[39;00m):\n\u001b[1;32m    142\u001b[0m   \u001b[38;5;28;01mif\u001b[39;00m \u001b[38;5;129;01mnot\u001b[39;00m has_aux:\n\u001b[0;32m--> 143\u001b[0m     out_primals, pvals, jaxpr, consts \u001b[38;5;241m=\u001b[39m \u001b[43mlinearize\u001b[49m\u001b[43m(\u001b[49m\u001b[43mtraceable\u001b[49m\u001b[43m,\u001b[49m\u001b[43m \u001b[49m\u001b[38;5;241;43m*\u001b[39;49m\u001b[43mprimals\u001b[49m\u001b[43m)\u001b[49m\n\u001b[1;32m    144\u001b[0m   \u001b[38;5;28;01melse\u001b[39;00m:\n\u001b[1;32m    145\u001b[0m     out_primals, pvals, jaxpr, consts, aux \u001b[38;5;241m=\u001b[39m linearize(traceable, \u001b[38;5;241m*\u001b[39mprimals, has_aux\u001b[38;5;241m=\u001b[39m\u001b[38;5;28;01mTrue\u001b[39;00m)\n",
      "File \u001b[0;32m~/venvs/test/lib/python3.12/site-packages/jax/_src/interpreters/ad.py:132\u001b[0m, in \u001b[0;36mlinearize\u001b[0;34m(traceable, *primals, **kwargs)\u001b[0m\n\u001b[1;32m    130\u001b[0m _, in_tree \u001b[38;5;241m=\u001b[39m tree_flatten(((primals, primals), {}))\n\u001b[1;32m    131\u001b[0m jvpfun_flat, out_tree \u001b[38;5;241m=\u001b[39m flatten_fun(jvpfun, in_tree)\n\u001b[0;32m--> 132\u001b[0m jaxpr, out_pvals, consts \u001b[38;5;241m=\u001b[39m \u001b[43mpe\u001b[49m\u001b[38;5;241;43m.\u001b[39;49m\u001b[43mtrace_to_jaxpr_nounits\u001b[49m\u001b[43m(\u001b[49m\u001b[43mjvpfun_flat\u001b[49m\u001b[43m,\u001b[49m\u001b[43m \u001b[49m\u001b[43min_pvals\u001b[49m\u001b[43m)\u001b[49m\n\u001b[1;32m    133\u001b[0m out_primals_pvals, out_tangents_pvals \u001b[38;5;241m=\u001b[39m tree_unflatten(out_tree(), out_pvals)\n\u001b[1;32m    134\u001b[0m \u001b[38;5;28;01massert\u001b[39;00m \u001b[38;5;28mall\u001b[39m(out_primal_pval\u001b[38;5;241m.\u001b[39mis_known() \u001b[38;5;28;01mfor\u001b[39;00m out_primal_pval \u001b[38;5;129;01min\u001b[39;00m out_primals_pvals)\n",
      "File \u001b[0;32m~/venvs/test/lib/python3.12/site-packages/jax/_src/profiler.py:335\u001b[0m, in \u001b[0;36mannotate_function.<locals>.wrapper\u001b[0;34m(*args, **kwargs)\u001b[0m\n\u001b[1;32m    332\u001b[0m \u001b[38;5;129m@wraps\u001b[39m(func)\n\u001b[1;32m    333\u001b[0m \u001b[38;5;28;01mdef\u001b[39;00m \u001b[38;5;21mwrapper\u001b[39m(\u001b[38;5;241m*\u001b[39margs, \u001b[38;5;241m*\u001b[39m\u001b[38;5;241m*\u001b[39mkwargs):\n\u001b[1;32m    334\u001b[0m   \u001b[38;5;28;01mwith\u001b[39;00m TraceAnnotation(name, \u001b[38;5;241m*\u001b[39m\u001b[38;5;241m*\u001b[39mdecorator_kwargs):\n\u001b[0;32m--> 335\u001b[0m     \u001b[38;5;28;01mreturn\u001b[39;00m \u001b[43mfunc\u001b[49m\u001b[43m(\u001b[49m\u001b[38;5;241;43m*\u001b[39;49m\u001b[43margs\u001b[49m\u001b[43m,\u001b[49m\u001b[43m \u001b[49m\u001b[38;5;241;43m*\u001b[39;49m\u001b[38;5;241;43m*\u001b[39;49m\u001b[43mkwargs\u001b[49m\u001b[43m)\u001b[49m\n\u001b[1;32m    336\u001b[0m   \u001b[38;5;28;01mreturn\u001b[39;00m wrapper\n",
      "File \u001b[0;32m~/venvs/test/lib/python3.12/site-packages/jax/_src/interpreters/partial_eval.py:777\u001b[0m, in \u001b[0;36mtrace_to_jaxpr_nounits\u001b[0;34m(fun, pvals, instantiate)\u001b[0m\n\u001b[1;32m    775\u001b[0m \u001b[38;5;28;01mwith\u001b[39;00m core\u001b[38;5;241m.\u001b[39mnew_main(JaxprTrace, name_stack\u001b[38;5;241m=\u001b[39mcurrent_name_stack) \u001b[38;5;28;01mas\u001b[39;00m main:\n\u001b[1;32m    776\u001b[0m   fun \u001b[38;5;241m=\u001b[39m trace_to_subjaxpr_nounits(fun, main, instantiate)\n\u001b[0;32m--> 777\u001b[0m   jaxpr, (out_pvals, consts, env) \u001b[38;5;241m=\u001b[39m \u001b[43mfun\u001b[49m\u001b[38;5;241;43m.\u001b[39;49m\u001b[43mcall_wrapped\u001b[49m\u001b[43m(\u001b[49m\u001b[43mpvals\u001b[49m\u001b[43m)\u001b[49m\n\u001b[1;32m    778\u001b[0m   \u001b[38;5;28;01massert\u001b[39;00m \u001b[38;5;129;01mnot\u001b[39;00m env\n\u001b[1;32m    779\u001b[0m   \u001b[38;5;28;01mdel\u001b[39;00m main, fun, env\n",
      "File \u001b[0;32m~/venvs/test/lib/python3.12/site-packages/jax/_src/linear_util.py:192\u001b[0m, in \u001b[0;36mWrappedFun.call_wrapped\u001b[0;34m(self, *args, **kwargs)\u001b[0m\n\u001b[1;32m    189\u001b[0m gen \u001b[38;5;241m=\u001b[39m gen_static_args \u001b[38;5;241m=\u001b[39m out_store \u001b[38;5;241m=\u001b[39m \u001b[38;5;28;01mNone\u001b[39;00m\n\u001b[1;32m    191\u001b[0m \u001b[38;5;28;01mtry\u001b[39;00m:\n\u001b[0;32m--> 192\u001b[0m   ans \u001b[38;5;241m=\u001b[39m \u001b[38;5;28;43mself\u001b[39;49m\u001b[38;5;241;43m.\u001b[39;49m\u001b[43mf\u001b[49m\u001b[43m(\u001b[49m\u001b[38;5;241;43m*\u001b[39;49m\u001b[43margs\u001b[49m\u001b[43m,\u001b[49m\u001b[43m \u001b[49m\u001b[38;5;241;43m*\u001b[39;49m\u001b[38;5;241;43m*\u001b[39;49m\u001b[38;5;28;43mdict\u001b[39;49m\u001b[43m(\u001b[49m\u001b[38;5;28;43mself\u001b[39;49m\u001b[38;5;241;43m.\u001b[39;49m\u001b[43mparams\u001b[49m\u001b[43m,\u001b[49m\u001b[43m \u001b[49m\u001b[38;5;241;43m*\u001b[39;49m\u001b[38;5;241;43m*\u001b[39;49m\u001b[43mkwargs\u001b[49m\u001b[43m)\u001b[49m\u001b[43m)\u001b[49m\n\u001b[1;32m    193\u001b[0m \u001b[38;5;28;01mexcept\u001b[39;00m:\n\u001b[1;32m    194\u001b[0m   \u001b[38;5;66;03m# Some transformations yield from inside context managers, so we have to\u001b[39;00m\n\u001b[1;32m    195\u001b[0m   \u001b[38;5;66;03m# interrupt them before reraising the exception. Otherwise they will only\u001b[39;00m\n\u001b[1;32m    196\u001b[0m   \u001b[38;5;66;03m# get garbage-collected at some later time, running their cleanup tasks\u001b[39;00m\n\u001b[1;32m    197\u001b[0m   \u001b[38;5;66;03m# only after this exception is handled, which can corrupt the global\u001b[39;00m\n\u001b[1;32m    198\u001b[0m   \u001b[38;5;66;03m# state.\u001b[39;00m\n\u001b[1;32m    199\u001b[0m   \u001b[38;5;28;01mwhile\u001b[39;00m stack:\n",
      "    \u001b[0;31m[... skipping hidden 1 frame]\u001b[0m\n",
      "File \u001b[0;32m~/venvs/test/lib/python3.12/site-packages/jax/_src/pjit.py:327\u001b[0m, in \u001b[0;36m_cpp_pjit.<locals>.cache_miss\u001b[0;34m(*args, **kwargs)\u001b[0m\n\u001b[1;32m    325\u001b[0m \u001b[38;5;129m@api_boundary\u001b[39m\n\u001b[1;32m    326\u001b[0m \u001b[38;5;28;01mdef\u001b[39;00m \u001b[38;5;21mcache_miss\u001b[39m(\u001b[38;5;241m*\u001b[39margs, \u001b[38;5;241m*\u001b[39m\u001b[38;5;241m*\u001b[39mkwargs):\n\u001b[0;32m--> 327\u001b[0m   outs, out_flat, out_tree, args_flat, jaxpr, attrs_tracked \u001b[38;5;241m=\u001b[39m \u001b[43m_python_pjit_helper\u001b[49m\u001b[43m(\u001b[49m\n\u001b[1;32m    328\u001b[0m \u001b[43m      \u001b[49m\u001b[43mjit_info\u001b[49m\u001b[43m,\u001b[49m\u001b[43m \u001b[49m\u001b[38;5;241;43m*\u001b[39;49m\u001b[43margs\u001b[49m\u001b[43m,\u001b[49m\u001b[43m \u001b[49m\u001b[38;5;241;43m*\u001b[39;49m\u001b[38;5;241;43m*\u001b[39;49m\u001b[43mkwargs\u001b[49m\u001b[43m)\u001b[49m\n\u001b[1;32m    329\u001b[0m   executable \u001b[38;5;241m=\u001b[39m _read_most_recent_pjit_call_executable(jaxpr)\n\u001b[1;32m    330\u001b[0m   pgle_profiler \u001b[38;5;241m=\u001b[39m _read_pgle_profiler(jaxpr)\n",
      "File \u001b[0;32m~/venvs/test/lib/python3.12/site-packages/jax/_src/pjit.py:175\u001b[0m, in \u001b[0;36m_python_pjit_helper\u001b[0;34m(jit_info, *args, **kwargs)\u001b[0m\n\u001b[1;32m    173\u001b[0m \u001b[38;5;28;01mdef\u001b[39;00m \u001b[38;5;21m_python_pjit_helper\u001b[39m(jit_info, \u001b[38;5;241m*\u001b[39margs, \u001b[38;5;241m*\u001b[39m\u001b[38;5;241m*\u001b[39mkwargs):\n\u001b[1;32m    174\u001b[0m   (args_flat, params, in_avals, _, out_tree, _, arg_names, _,\n\u001b[0;32m--> 175\u001b[0m    attrs_tracked) \u001b[38;5;241m=\u001b[39m \u001b[43m_infer_params\u001b[49m\u001b[43m(\u001b[49m\u001b[43mjit_info\u001b[49m\u001b[43m,\u001b[49m\u001b[43m \u001b[49m\u001b[43margs\u001b[49m\u001b[43m,\u001b[49m\u001b[43m \u001b[49m\u001b[43mkwargs\u001b[49m\u001b[43m)\u001b[49m\n\u001b[1;32m    177\u001b[0m   \u001b[38;5;28;01mfor\u001b[39;00m arg \u001b[38;5;129;01min\u001b[39;00m args_flat:\n\u001b[1;32m    178\u001b[0m     dispatch\u001b[38;5;241m.\u001b[39mcheck_arg(arg)\n",
      "File \u001b[0;32m~/venvs/test/lib/python3.12/site-packages/jax/_src/pjit.py:627\u001b[0m, in \u001b[0;36m_infer_params\u001b[0;34m(***failed resolving arguments***)\u001b[0m\n\u001b[1;32m    620\u001b[0m   in_type \u001b[38;5;241m=\u001b[39m in_avals \u001b[38;5;241m=\u001b[39m \u001b[38;5;28mtuple\u001b[39m(avals)\n\u001b[1;32m    622\u001b[0m in_shardings_flat, in_layouts_flat \u001b[38;5;241m=\u001b[39m _process_in_axis_resources(\n\u001b[1;32m    623\u001b[0m     in_shardings_treedef, in_shardings_leaves,\n\u001b[1;32m    624\u001b[0m     in_layouts_treedef, in_layouts_leaves,\n\u001b[1;32m    625\u001b[0m     in_avals, in_tree, dbg, device_or_backend_set, have_kwargs)\n\u001b[0;32m--> 627\u001b[0m jaxpr, consts, out_shardings_flat, out_layouts_flat, attrs_tracked \u001b[38;5;241m=\u001b[39m \u001b[43m_pjit_jaxpr\u001b[49m\u001b[43m(\u001b[49m\n\u001b[1;32m    628\u001b[0m \u001b[43m    \u001b[49m\u001b[43mflat_fun\u001b[49m\u001b[43m,\u001b[49m\u001b[43m \u001b[49m\u001b[43mout_shardings_treedef\u001b[49m\u001b[43m,\u001b[49m\u001b[43m \u001b[49m\u001b[43mout_shardings_leaves\u001b[49m\u001b[43m,\u001b[49m\n\u001b[1;32m    629\u001b[0m \u001b[43m    \u001b[49m\u001b[43mout_layouts_treedef\u001b[49m\u001b[43m,\u001b[49m\u001b[43m \u001b[49m\u001b[43mout_layouts_leaves\u001b[49m\u001b[43m,\u001b[49m\u001b[43m \u001b[49m\u001b[43min_type\u001b[49m\u001b[43m,\u001b[49m\u001b[43m \u001b[49m\u001b[43mdbg\u001b[49m\u001b[43m,\u001b[49m\n\u001b[1;32m    630\u001b[0m \u001b[43m    \u001b[49m\u001b[43mdevice_or_backend_set\u001b[49m\u001b[43m,\u001b[49m\u001b[43m \u001b[49m\u001b[43mHashableFunction\u001b[49m\u001b[43m(\u001b[49m\u001b[43mout_tree\u001b[49m\u001b[43m,\u001b[49m\u001b[43m \u001b[49m\u001b[43mclosure\u001b[49m\u001b[38;5;241;43m=\u001b[39;49m\u001b[43m(\u001b[49m\u001b[43m)\u001b[49m\u001b[43m)\u001b[49m\u001b[43m,\u001b[49m\n\u001b[1;32m    631\u001b[0m \u001b[43m    \u001b[49m\u001b[43mHashableFunction\u001b[49m\u001b[43m(\u001b[49m\u001b[43mres_paths\u001b[49m\u001b[43m,\u001b[49m\u001b[43m \u001b[49m\u001b[43mclosure\u001b[49m\u001b[38;5;241;43m=\u001b[39;49m\u001b[43m(\u001b[49m\u001b[43m)\u001b[49m\u001b[43m)\u001b[49m\u001b[43m,\u001b[49m\u001b[43m \u001b[49m\u001b[43minline\u001b[49m\u001b[43m)\u001b[49m\n\u001b[1;32m    633\u001b[0m \u001b[38;5;28;01massert\u001b[39;00m \u001b[38;5;28mlen\u001b[39m(explicit_args) \u001b[38;5;241m==\u001b[39m \u001b[38;5;28mlen\u001b[39m(in_shardings_flat) \u001b[38;5;241m==\u001b[39m \u001b[38;5;28mlen\u001b[39m(in_layouts_flat)\n\u001b[1;32m    635\u001b[0m \u001b[38;5;28;01mif\u001b[39;00m config\u001b[38;5;241m.\u001b[39mdynamic_shapes\u001b[38;5;241m.\u001b[39mvalue:\n",
      "File \u001b[0;32m~/venvs/test/lib/python3.12/site-packages/jax/_src/pjit.py:1275\u001b[0m, in \u001b[0;36m_pjit_jaxpr\u001b[0;34m(fun, out_shardings_treedef, out_shardings_leaves, out_layouts_treedef, out_layouts_leaves, in_type, debug_info, device_or_backend_set, out_tree, result_paths, inline)\u001b[0m\n\u001b[1;32m   1271\u001b[0m \u001b[38;5;28;01mdef\u001b[39;00m \u001b[38;5;21m_pjit_jaxpr\u001b[39m(fun, out_shardings_treedef, out_shardings_leaves,\n\u001b[1;32m   1272\u001b[0m                 out_layouts_treedef, out_layouts_leaves, in_type, debug_info,\n\u001b[1;32m   1273\u001b[0m                 device_or_backend_set, out_tree, result_paths, inline):\n\u001b[1;32m   1274\u001b[0m   attr_token \u001b[38;5;241m=\u001b[39m _attr_token(fun, in_type)\n\u001b[0;32m-> 1275\u001b[0m   jaxpr, final_consts, out_type, attrs_tracked \u001b[38;5;241m=\u001b[39m \u001b[43m_create_pjit_jaxpr\u001b[49m\u001b[43m(\u001b[49m\n\u001b[1;32m   1276\u001b[0m \u001b[43m      \u001b[49m\u001b[43mfun\u001b[49m\u001b[43m,\u001b[49m\u001b[43m \u001b[49m\u001b[43min_type\u001b[49m\u001b[43m,\u001b[49m\u001b[43m \u001b[49m\u001b[43mattr_token\u001b[49m\u001b[43m,\u001b[49m\u001b[43m \u001b[49m\u001b[43mdebug_info\u001b[49m\u001b[43m,\u001b[49m\u001b[43m \u001b[49m\u001b[43mresult_paths\u001b[49m\u001b[43m,\u001b[49m\u001b[43m \u001b[49m\u001b[43mIgnoreKey\u001b[49m\u001b[43m(\u001b[49m\u001b[43minline\u001b[49m\u001b[43m)\u001b[49m\u001b[43m)\u001b[49m\n\u001b[1;32m   1277\u001b[0m   _attr_update(fun, in_type, attr_token, attrs_tracked)\n\u001b[1;32m   1278\u001b[0m   canonicalized_out_shardings_flat, out_layouts_flat \u001b[38;5;241m=\u001b[39m _check_and_canonicalize_out_shardings(\n\u001b[1;32m   1279\u001b[0m       out_shardings_treedef, out_shardings_leaves, out_layouts_treedef,\n\u001b[1;32m   1280\u001b[0m       out_layouts_leaves, out_tree, \u001b[38;5;28mtuple\u001b[39m(out_type),\n\u001b[1;32m   1281\u001b[0m       jaxpr\u001b[38;5;241m.\u001b[39mjaxpr\u001b[38;5;241m.\u001b[39mdebug_info, device_or_backend_set)\n",
      "File \u001b[0;32m~/venvs/test/lib/python3.12/site-packages/jax/_src/linear_util.py:350\u001b[0m, in \u001b[0;36mcache.<locals>.memoized_fun\u001b[0;34m(fun, *args)\u001b[0m\n\u001b[1;32m    348\u001b[0m   fun\u001b[38;5;241m.\u001b[39mpopulate_stores(stores)\n\u001b[1;32m    349\u001b[0m \u001b[38;5;28;01melse\u001b[39;00m:\n\u001b[0;32m--> 350\u001b[0m   ans \u001b[38;5;241m=\u001b[39m \u001b[43mcall\u001b[49m\u001b[43m(\u001b[49m\u001b[43mfun\u001b[49m\u001b[43m,\u001b[49m\u001b[43m \u001b[49m\u001b[38;5;241;43m*\u001b[39;49m\u001b[43margs\u001b[49m\u001b[43m)\u001b[49m\n\u001b[1;32m    351\u001b[0m   \u001b[38;5;28;01mif\u001b[39;00m explain \u001b[38;5;129;01mand\u001b[39;00m config\u001b[38;5;241m.\u001b[39mexplain_cache_misses\u001b[38;5;241m.\u001b[39mvalue:\n\u001b[1;32m    352\u001b[0m     explain(fun\u001b[38;5;241m.\u001b[39mf, cache \u001b[38;5;129;01mis\u001b[39;00m new_cache, cache, key, ans)\n",
      "File \u001b[0;32m~/venvs/test/lib/python3.12/site-packages/jax/_src/pjit.py:1189\u001b[0m, in \u001b[0;36m_create_pjit_jaxpr\u001b[0;34m(***failed resolving arguments***)\u001b[0m\n\u001b[1;32m   1187\u001b[0m     attrs_tracked \u001b[38;5;241m=\u001b[39m []\n\u001b[1;32m   1188\u001b[0m   \u001b[38;5;28;01melse\u001b[39;00m:\n\u001b[0;32m-> 1189\u001b[0m     jaxpr, global_out_avals, consts, attrs_tracked \u001b[38;5;241m=\u001b[39m \u001b[43mpe\u001b[49m\u001b[38;5;241;43m.\u001b[39;49m\u001b[43mtrace_to_jaxpr_dynamic\u001b[49m\u001b[43m(\u001b[49m\n\u001b[1;32m   1190\u001b[0m \u001b[43m        \u001b[49m\u001b[43mfun\u001b[49m\u001b[43m,\u001b[49m\u001b[43m \u001b[49m\u001b[43min_type\u001b[49m\u001b[43m,\u001b[49m\u001b[43m \u001b[49m\u001b[43mdebug_info\u001b[49m\u001b[38;5;241;43m=\u001b[39;49m\u001b[43mpe_debug\u001b[49m\u001b[43m)\u001b[49m\n\u001b[1;32m   1191\u001b[0m     \u001b[38;5;66;03m# assert attr_data is sentinel or attr_data matches attrs_tracked\u001b[39;00m\n\u001b[1;32m   1192\u001b[0m \n\u001b[1;32m   1193\u001b[0m \u001b[38;5;66;03m# TODO(dougalm,mattjj): enable debug info with attrs_tracked\u001b[39;00m\n\u001b[1;32m   1194\u001b[0m \u001b[38;5;28;01mif\u001b[39;00m \u001b[38;5;129;01mnot\u001b[39;00m config\u001b[38;5;241m.\u001b[39mdynamic_shapes\u001b[38;5;241m.\u001b[39mvalue \u001b[38;5;129;01mand\u001b[39;00m \u001b[38;5;129;01mnot\u001b[39;00m attrs_tracked:\n",
      "File \u001b[0;32m~/venvs/test/lib/python3.12/site-packages/jax/_src/profiler.py:335\u001b[0m, in \u001b[0;36mannotate_function.<locals>.wrapper\u001b[0;34m(*args, **kwargs)\u001b[0m\n\u001b[1;32m    332\u001b[0m \u001b[38;5;129m@wraps\u001b[39m(func)\n\u001b[1;32m    333\u001b[0m \u001b[38;5;28;01mdef\u001b[39;00m \u001b[38;5;21mwrapper\u001b[39m(\u001b[38;5;241m*\u001b[39margs, \u001b[38;5;241m*\u001b[39m\u001b[38;5;241m*\u001b[39mkwargs):\n\u001b[1;32m    334\u001b[0m   \u001b[38;5;28;01mwith\u001b[39;00m TraceAnnotation(name, \u001b[38;5;241m*\u001b[39m\u001b[38;5;241m*\u001b[39mdecorator_kwargs):\n\u001b[0;32m--> 335\u001b[0m     \u001b[38;5;28;01mreturn\u001b[39;00m \u001b[43mfunc\u001b[49m\u001b[43m(\u001b[49m\u001b[38;5;241;43m*\u001b[39;49m\u001b[43margs\u001b[49m\u001b[43m,\u001b[49m\u001b[43m \u001b[49m\u001b[38;5;241;43m*\u001b[39;49m\u001b[38;5;241;43m*\u001b[39;49m\u001b[43mkwargs\u001b[49m\u001b[43m)\u001b[49m\n\u001b[1;32m    336\u001b[0m   \u001b[38;5;28;01mreturn\u001b[39;00m wrapper\n",
      "File \u001b[0;32m~/venvs/test/lib/python3.12/site-packages/jax/_src/interpreters/partial_eval.py:2347\u001b[0m, in \u001b[0;36mtrace_to_jaxpr_dynamic\u001b[0;34m(fun, in_avals, debug_info, keep_inputs)\u001b[0m\n\u001b[1;32m   2345\u001b[0m \u001b[38;5;28;01mwith\u001b[39;00m core\u001b[38;5;241m.\u001b[39mnew_main(DynamicJaxprTrace, dynamic\u001b[38;5;241m=\u001b[39m\u001b[38;5;28;01mTrue\u001b[39;00m) \u001b[38;5;28;01mas\u001b[39;00m main:\n\u001b[1;32m   2346\u001b[0m   main\u001b[38;5;241m.\u001b[39mjaxpr_stack \u001b[38;5;241m=\u001b[39m ()  \u001b[38;5;66;03m# type: ignore\u001b[39;00m\n\u001b[0;32m-> 2347\u001b[0m   jaxpr, out_avals, consts, attrs_tracked \u001b[38;5;241m=\u001b[39m \u001b[43mtrace_to_subjaxpr_dynamic\u001b[49m\u001b[43m(\u001b[49m\n\u001b[1;32m   2348\u001b[0m \u001b[43m    \u001b[49m\u001b[43mfun\u001b[49m\u001b[43m,\u001b[49m\u001b[43m \u001b[49m\u001b[43mmain\u001b[49m\u001b[43m,\u001b[49m\u001b[43m \u001b[49m\u001b[43min_avals\u001b[49m\u001b[43m,\u001b[49m\u001b[43m \u001b[49m\u001b[43mkeep_inputs\u001b[49m\u001b[38;5;241;43m=\u001b[39;49m\u001b[43mkeep_inputs\u001b[49m\u001b[43m,\u001b[49m\u001b[43m \u001b[49m\u001b[43mdebug_info\u001b[49m\u001b[38;5;241;43m=\u001b[39;49m\u001b[43mdebug_info\u001b[49m\u001b[43m)\u001b[49m\n\u001b[1;32m   2349\u001b[0m   \u001b[38;5;28;01mdel\u001b[39;00m main, fun\n\u001b[1;32m   2350\u001b[0m \u001b[38;5;28;01mreturn\u001b[39;00m jaxpr, out_avals, consts, attrs_tracked\n",
      "File \u001b[0;32m~/venvs/test/lib/python3.12/site-packages/jax/_src/interpreters/partial_eval.py:2370\u001b[0m, in \u001b[0;36mtrace_to_subjaxpr_dynamic\u001b[0;34m(fun, main, in_avals, keep_inputs, debug_info)\u001b[0m\n\u001b[1;32m   2368\u001b[0m in_tracers \u001b[38;5;241m=\u001b[39m _input_type_to_tracers(trace\u001b[38;5;241m.\u001b[39mnew_arg, in_avals)\n\u001b[1;32m   2369\u001b[0m in_tracers_ \u001b[38;5;241m=\u001b[39m [t \u001b[38;5;28;01mfor\u001b[39;00m t, keep \u001b[38;5;129;01min\u001b[39;00m \u001b[38;5;28mzip\u001b[39m(in_tracers, keep_inputs) \u001b[38;5;28;01mif\u001b[39;00m keep]\n\u001b[0;32m-> 2370\u001b[0m ans \u001b[38;5;241m=\u001b[39m \u001b[43mfun\u001b[49m\u001b[38;5;241;43m.\u001b[39;49m\u001b[43mcall_wrapped\u001b[49m\u001b[43m(\u001b[49m\u001b[38;5;241;43m*\u001b[39;49m\u001b[43min_tracers_\u001b[49m\u001b[43m)\u001b[49m\n\u001b[1;32m   2371\u001b[0m out_tracers \u001b[38;5;241m=\u001b[39m \u001b[38;5;28mmap\u001b[39m(trace\u001b[38;5;241m.\u001b[39mfull_raise, ans)\n\u001b[1;32m   2372\u001b[0m jaxpr, consts, attrs_tracked \u001b[38;5;241m=\u001b[39m frame\u001b[38;5;241m.\u001b[39mto_jaxpr(trace, out_tracers)\n",
      "File \u001b[0;32m~/venvs/test/lib/python3.12/site-packages/jax/_src/linear_util.py:192\u001b[0m, in \u001b[0;36mWrappedFun.call_wrapped\u001b[0;34m(self, *args, **kwargs)\u001b[0m\n\u001b[1;32m    189\u001b[0m gen \u001b[38;5;241m=\u001b[39m gen_static_args \u001b[38;5;241m=\u001b[39m out_store \u001b[38;5;241m=\u001b[39m \u001b[38;5;28;01mNone\u001b[39;00m\n\u001b[1;32m    191\u001b[0m \u001b[38;5;28;01mtry\u001b[39;00m:\n\u001b[0;32m--> 192\u001b[0m   ans \u001b[38;5;241m=\u001b[39m \u001b[38;5;28;43mself\u001b[39;49m\u001b[38;5;241;43m.\u001b[39;49m\u001b[43mf\u001b[49m\u001b[43m(\u001b[49m\u001b[38;5;241;43m*\u001b[39;49m\u001b[43margs\u001b[49m\u001b[43m,\u001b[49m\u001b[43m \u001b[49m\u001b[38;5;241;43m*\u001b[39;49m\u001b[38;5;241;43m*\u001b[39;49m\u001b[38;5;28;43mdict\u001b[39;49m\u001b[43m(\u001b[49m\u001b[38;5;28;43mself\u001b[39;49m\u001b[38;5;241;43m.\u001b[39;49m\u001b[43mparams\u001b[49m\u001b[43m,\u001b[49m\u001b[43m \u001b[49m\u001b[38;5;241;43m*\u001b[39;49m\u001b[38;5;241;43m*\u001b[39;49m\u001b[43mkwargs\u001b[49m\u001b[43m)\u001b[49m\u001b[43m)\u001b[49m\n\u001b[1;32m    193\u001b[0m \u001b[38;5;28;01mexcept\u001b[39;00m:\n\u001b[1;32m    194\u001b[0m   \u001b[38;5;66;03m# Some transformations yield from inside context managers, so we have to\u001b[39;00m\n\u001b[1;32m    195\u001b[0m   \u001b[38;5;66;03m# interrupt them before reraising the exception. Otherwise they will only\u001b[39;00m\n\u001b[1;32m    196\u001b[0m   \u001b[38;5;66;03m# get garbage-collected at some later time, running their cleanup tasks\u001b[39;00m\n\u001b[1;32m    197\u001b[0m   \u001b[38;5;66;03m# only after this exception is handled, which can corrupt the global\u001b[39;00m\n\u001b[1;32m    198\u001b[0m   \u001b[38;5;66;03m# state.\u001b[39;00m\n\u001b[1;32m    199\u001b[0m   \u001b[38;5;28;01mwhile\u001b[39;00m stack:\n",
      "File \u001b[0;32m~/repos/stljax/stljax/formula.py:822\u001b[0m, in \u001b[0;36mUntilRecurrent.robustness\u001b[0;34m(self, signal, **kwargs)\u001b[0m\n\u001b[1;32m    812\u001b[0m \u001b[38;5;28;01mdef\u001b[39;00m \u001b[38;5;21mrobustness\u001b[39m(\u001b[38;5;28mself\u001b[39m, signal, \u001b[38;5;241m*\u001b[39m\u001b[38;5;241m*\u001b[39mkwargs):\n\u001b[1;32m    813\u001b[0m \u001b[38;5;250m    \u001b[39m\u001b[38;5;124;03m\"\"\"\u001b[39;00m\n\u001b[1;32m    814\u001b[0m \u001b[38;5;124;03m    Computes the robustness value. Extracts the last entry along time_dim of robustness trace.\u001b[39;00m\n\u001b[1;32m    815\u001b[0m \n\u001b[0;32m   (...)\u001b[0m\n\u001b[1;32m    820\u001b[0m \u001b[38;5;124;03m    Return: jnp.array, same as input with the time_dim removed.\u001b[39;00m\n\u001b[1;32m    821\u001b[0m \u001b[38;5;124;03m    \"\"\"\u001b[39;00m\n\u001b[0;32m--> 822\u001b[0m     \u001b[38;5;28;01mreturn\u001b[39;00m \u001b[38;5;28;43mself\u001b[39;49m\u001b[38;5;241;43m.\u001b[39;49m\u001b[38;5;21;43m__call__\u001b[39;49m\u001b[43m(\u001b[49m\u001b[43msignal\u001b[49m\u001b[43m,\u001b[49m\u001b[43m \u001b[49m\u001b[38;5;241;43m*\u001b[39;49m\u001b[38;5;241;43m*\u001b[39;49m\u001b[43mkwargs\u001b[49m\u001b[43m)\u001b[49m[\u001b[38;5;241m-\u001b[39m\u001b[38;5;241m1\u001b[39m]\n",
      "File \u001b[0;32m~/repos/stljax/stljax/formula.py:80\u001b[0m, in \u001b[0;36mSTL_Formula.__call__\u001b[0;34m(self, signal, **kwargs)\u001b[0m\n\u001b[1;32m     73\u001b[0m \u001b[38;5;250m\u001b[39m\u001b[38;5;124;03m\"\"\"\u001b[39;00m\n\u001b[1;32m     74\u001b[0m \u001b[38;5;124;03mEvaluates the robustness_trace given the input. The input is converted to the numerical value first.\u001b[39;00m\n\u001b[1;32m     75\u001b[0m \n\u001b[1;32m     76\u001b[0m \u001b[38;5;124;03mSee  STL_Formula.robustness_trace\u001b[39;00m\n\u001b[1;32m     77\u001b[0m \u001b[38;5;124;03m\"\"\"\u001b[39;00m\n\u001b[1;32m     79\u001b[0m inputs \u001b[38;5;241m=\u001b[39m convert_to_input_values(signal)\n\u001b[0;32m---> 80\u001b[0m \u001b[38;5;28;01mreturn\u001b[39;00m \u001b[38;5;28;43mself\u001b[39;49m\u001b[38;5;241;43m.\u001b[39;49m\u001b[43mrobustness_trace\u001b[49m\u001b[43m(\u001b[49m\u001b[43minputs\u001b[49m\u001b[43m,\u001b[49m\u001b[43m \u001b[49m\u001b[38;5;241;43m*\u001b[39;49m\u001b[38;5;241;43m*\u001b[39;49m\u001b[43mkwargs\u001b[49m\u001b[43m)\u001b[49m\n",
      "File \u001b[0;32m~/repos/stljax/stljax/formula.py:794\u001b[0m, in \u001b[0;36mUntilRecurrent.robustness_trace\u001b[0;34m(self, signal, **kwargs)\u001b[0m\n\u001b[1;32m    792\u001b[0m \u001b[38;5;28;01mif\u001b[39;00m \u001b[38;5;28mself\u001b[39m\u001b[38;5;241m.\u001b[39minterval \u001b[38;5;241m==\u001b[39m \u001b[38;5;28;01mNone\u001b[39;00m:\n\u001b[1;32m    793\u001b[0m     \u001b[38;5;28;01mfor\u001b[39;00m i \u001b[38;5;129;01min\u001b[39;00m \u001b[38;5;28mrange\u001b[39m(n_time_steps):\n\u001b[0;32m--> 794\u001b[0m         RHS \u001b[38;5;241m=\u001b[39m RHS\u001b[38;5;241m.\u001b[39mat[i:,i]\u001b[38;5;241m.\u001b[39mset(\u001b[43mAlw\u001b[49m\u001b[43m(\u001b[49m\u001b[43mtrace1\u001b[49m\u001b[43m[\u001b[49m\u001b[43mi\u001b[49m\u001b[43m:\u001b[49m\u001b[43m]\u001b[49m\u001b[43m,\u001b[49m\u001b[43m \u001b[49m\u001b[38;5;241;43m*\u001b[39;49m\u001b[38;5;241;43m*\u001b[39;49m\u001b[43mkwargs\u001b[49m\u001b[43m)\u001b[49m)\n\u001b[1;32m    796\u001b[0m \u001b[38;5;66;03m# Case 2 and 4: self.interval is [a, b], a ≥ 0, b < ∞\u001b[39;00m\n\u001b[1;32m    797\u001b[0m \u001b[38;5;28;01melif\u001b[39;00m \u001b[38;5;28mself\u001b[39m\u001b[38;5;241m.\u001b[39minterval[\u001b[38;5;241m1\u001b[39m] \u001b[38;5;241m<\u001b[39m jnp\u001b[38;5;241m.\u001b[39minf:\n",
      "File \u001b[0;32m~/repos/stljax/stljax/formula.py:80\u001b[0m, in \u001b[0;36mSTL_Formula.__call__\u001b[0;34m(self, signal, **kwargs)\u001b[0m\n\u001b[1;32m     73\u001b[0m \u001b[38;5;250m\u001b[39m\u001b[38;5;124;03m\"\"\"\u001b[39;00m\n\u001b[1;32m     74\u001b[0m \u001b[38;5;124;03mEvaluates the robustness_trace given the input. The input is converted to the numerical value first.\u001b[39;00m\n\u001b[1;32m     75\u001b[0m \n\u001b[1;32m     76\u001b[0m \u001b[38;5;124;03mSee  STL_Formula.robustness_trace\u001b[39;00m\n\u001b[1;32m     77\u001b[0m \u001b[38;5;124;03m\"\"\"\u001b[39;00m\n\u001b[1;32m     79\u001b[0m inputs \u001b[38;5;241m=\u001b[39m convert_to_input_values(signal)\n\u001b[0;32m---> 80\u001b[0m \u001b[38;5;28;01mreturn\u001b[39;00m \u001b[38;5;28;43mself\u001b[39;49m\u001b[38;5;241;43m.\u001b[39;49m\u001b[43mrobustness_trace\u001b[49m\u001b[43m(\u001b[49m\u001b[43minputs\u001b[49m\u001b[43m,\u001b[49m\u001b[43m \u001b[49m\u001b[38;5;241;43m*\u001b[39;49m\u001b[38;5;241;43m*\u001b[39;49m\u001b[43mkwargs\u001b[49m\u001b[43m)\u001b[49m\n",
      "File \u001b[0;32m~/repos/stljax/stljax/formula.py:641\u001b[0m, in \u001b[0;36mAlwaysRecurrent.robustness_trace\u001b[0;34m(self, signal, padding, **kwargs)\u001b[0m\n\u001b[1;32m    628\u001b[0m \u001b[38;5;28;01mdef\u001b[39;00m \u001b[38;5;21mrobustness_trace\u001b[39m(\u001b[38;5;28mself\u001b[39m, signal, padding\u001b[38;5;241m=\u001b[39m\u001b[38;5;241m1E6\u001b[39m, \u001b[38;5;241m*\u001b[39m\u001b[38;5;241m*\u001b[39mkwargs):\n\u001b[1;32m    629\u001b[0m \u001b[38;5;250m    \u001b[39m\u001b[38;5;124;03m\"\"\"\u001b[39;00m\n\u001b[1;32m    630\u001b[0m \u001b[38;5;124;03m    Function to compute robustness trace of a temporal STL formula\u001b[39;00m\n\u001b[1;32m    631\u001b[0m \u001b[38;5;124;03m    First, compute the robustness trace of the subformula, and use that as the input for the recurrent computation\u001b[39;00m\n\u001b[0;32m   (...)\u001b[0m\n\u001b[1;32m    639\u001b[0m \u001b[38;5;124;03m        robustness_trace: jnp.array. Same size as signal.\u001b[39;00m\n\u001b[1;32m    640\u001b[0m \u001b[38;5;124;03m    \"\"\"\u001b[39;00m\n\u001b[0;32m--> 641\u001b[0m     \u001b[38;5;28;01mreturn\u001b[39;00m \u001b[38;5;28;43mself\u001b[39;49m\u001b[38;5;241;43m.\u001b[39;49m\u001b[43m_robustness_trace\u001b[49m\u001b[43m(\u001b[49m\u001b[43msignal\u001b[49m\u001b[43m,\u001b[49m\u001b[43m \u001b[49m\u001b[43mpadding\u001b[49m\u001b[43m,\u001b[49m\u001b[43m \u001b[49m\u001b[38;5;241;43m*\u001b[39;49m\u001b[38;5;241;43m*\u001b[39;49m\u001b[43mkwargs\u001b[49m\u001b[43m)\u001b[49m\n",
      "File \u001b[0;32m~/repos/stljax/stljax/formula.py:536\u001b[0m, in \u001b[0;36mTemporal_Operator._robustness_trace\u001b[0;34m(self, signal, padding, **kwargs)\u001b[0m\n\u001b[1;32m    534\u001b[0m time_dim \u001b[38;5;241m=\u001b[39m \u001b[38;5;241m0\u001b[39m  \u001b[38;5;66;03m# assuming signal is [time_dim,...]\u001b[39;00m\n\u001b[1;32m    535\u001b[0m trace \u001b[38;5;241m=\u001b[39m \u001b[38;5;28mself\u001b[39m\u001b[38;5;241m.\u001b[39msubformula(signal, \u001b[38;5;241m*\u001b[39m\u001b[38;5;241m*\u001b[39mkwargs)\n\u001b[0;32m--> 536\u001b[0m outputs \u001b[38;5;241m=\u001b[39m \u001b[38;5;28;43mself\u001b[39;49m\u001b[38;5;241;43m.\u001b[39;49m\u001b[43m_run_cell\u001b[49m\u001b[43m(\u001b[49m\u001b[43mtrace\u001b[49m\u001b[43m,\u001b[49m\u001b[43m \u001b[49m\u001b[43mpadding\u001b[49m\u001b[43m,\u001b[49m\u001b[43m \u001b[49m\u001b[38;5;241;43m*\u001b[39;49m\u001b[38;5;241;43m*\u001b[39;49m\u001b[43mkwargs\u001b[49m\u001b[43m)\u001b[49m\n\u001b[1;32m    537\u001b[0m \u001b[38;5;28;01mreturn\u001b[39;00m jnp\u001b[38;5;241m.\u001b[39mconcatenate(outputs, axis\u001b[38;5;241m=\u001b[39mtime_dim)\n",
      "File \u001b[0;32m~/repos/stljax/stljax/formula.py:519\u001b[0m, in \u001b[0;36mTemporal_Operator._run_cell\u001b[0;34m(self, signal, padding, **kwargs)\u001b[0m\n\u001b[1;32m    516\u001b[0m     o, hidden \u001b[38;5;241m=\u001b[39m \u001b[38;5;28mself\u001b[39m\u001b[38;5;241m.\u001b[39m_cell(state, hidden)\n\u001b[1;32m    517\u001b[0m     \u001b[38;5;28;01mreturn\u001b[39;00m hidden, o\n\u001b[0;32m--> 519\u001b[0m _, outputs_stack \u001b[38;5;241m=\u001b[39m jax\u001b[38;5;241m.\u001b[39mlax\u001b[38;5;241m.\u001b[39mscan(f_, hidden_state, \u001b[43mjnp\u001b[49m\u001b[38;5;241;43m.\u001b[39;49m\u001b[43mstack\u001b[49m\u001b[43m(\u001b[49m\u001b[43msignal_split\u001b[49m\u001b[43m)\u001b[49m)\n\u001b[1;32m    520\u001b[0m \u001b[38;5;28;01mreturn\u001b[39;00m outputs_stack\n",
      "File \u001b[0;32m~/venvs/test/lib/python3.12/site-packages/jax/_src/numpy/lax_numpy.py:2843\u001b[0m, in \u001b[0;36mstack\u001b[0;34m(arrays, axis, out, dtype)\u001b[0m\n\u001b[1;32m   2841\u001b[0m     \u001b[38;5;28;01mraise\u001b[39;00m \u001b[38;5;167;01mValueError\u001b[39;00m(\u001b[38;5;124m\"\u001b[39m\u001b[38;5;124mAll input arrays must have the same shape.\u001b[39m\u001b[38;5;124m\"\u001b[39m)\n\u001b[1;32m   2842\u001b[0m   new_arrays\u001b[38;5;241m.\u001b[39mappend(expand_dims(a, axis))\n\u001b[0;32m-> 2843\u001b[0m \u001b[38;5;28;01mreturn\u001b[39;00m \u001b[43mconcatenate\u001b[49m\u001b[43m(\u001b[49m\u001b[43mnew_arrays\u001b[49m\u001b[43m,\u001b[49m\u001b[43m \u001b[49m\u001b[43maxis\u001b[49m\u001b[38;5;241;43m=\u001b[39;49m\u001b[43maxis\u001b[49m\u001b[43m,\u001b[49m\u001b[43m \u001b[49m\u001b[43mdtype\u001b[49m\u001b[38;5;241;43m=\u001b[39;49m\u001b[43mdtype\u001b[49m\u001b[43m)\u001b[49m\n",
      "File \u001b[0;32m~/venvs/test/lib/python3.12/site-packages/jax/_src/numpy/lax_numpy.py:2903\u001b[0m, in \u001b[0;36mconcatenate\u001b[0;34m(arrays, axis, dtype)\u001b[0m\n\u001b[1;32m   2901\u001b[0m axis \u001b[38;5;241m=\u001b[39m _canonicalize_axis(axis, ndim(arrays[\u001b[38;5;241m0\u001b[39m]))\n\u001b[1;32m   2902\u001b[0m \u001b[38;5;28;01mif\u001b[39;00m dtype \u001b[38;5;129;01mis\u001b[39;00m \u001b[38;5;28;01mNone\u001b[39;00m:\n\u001b[0;32m-> 2903\u001b[0m   arrays_out \u001b[38;5;241m=\u001b[39m \u001b[43mutil\u001b[49m\u001b[38;5;241;43m.\u001b[39;49m\u001b[43mpromote_dtypes\u001b[49m\u001b[43m(\u001b[49m\u001b[38;5;241;43m*\u001b[39;49m\u001b[43marrays\u001b[49m\u001b[43m)\u001b[49m\n\u001b[1;32m   2904\u001b[0m \u001b[38;5;28;01melse\u001b[39;00m:\n\u001b[1;32m   2905\u001b[0m   arrays_out \u001b[38;5;241m=\u001b[39m [asarray(arr, dtype\u001b[38;5;241m=\u001b[39mdtype) \u001b[38;5;28;01mfor\u001b[39;00m arr \u001b[38;5;129;01min\u001b[39;00m arrays]\n",
      "File \u001b[0;32m~/venvs/test/lib/python3.12/site-packages/jax/_src/numpy/util.py:278\u001b[0m, in \u001b[0;36mpromote_dtypes\u001b[0;34m(*args)\u001b[0m\n\u001b[1;32m    276\u001b[0m to_dtype, weak_type \u001b[38;5;241m=\u001b[39m dtypes\u001b[38;5;241m.\u001b[39m_lattice_result_type(\u001b[38;5;241m*\u001b[39margs)\n\u001b[1;32m    277\u001b[0m to_dtype \u001b[38;5;241m=\u001b[39m dtypes\u001b[38;5;241m.\u001b[39mcanonicalize_dtype(to_dtype, allow_extended_dtype\u001b[38;5;241m=\u001b[39m\u001b[38;5;28;01mTrue\u001b[39;00m)  \u001b[38;5;66;03m# type: ignore[assignment]\u001b[39;00m\n\u001b[0;32m--> 278\u001b[0m \u001b[38;5;28;01mreturn\u001b[39;00m [\u001b[43mlax\u001b[49m\u001b[38;5;241;43m.\u001b[39;49m\u001b[43m_convert_element_type\u001b[49m\u001b[43m(\u001b[49m\u001b[43mx\u001b[49m\u001b[43m,\u001b[49m\u001b[43m \u001b[49m\u001b[43mto_dtype\u001b[49m\u001b[43m,\u001b[49m\u001b[43m \u001b[49m\u001b[43mweak_type\u001b[49m\u001b[43m)\u001b[49m \u001b[38;5;28;01mfor\u001b[39;00m x \u001b[38;5;129;01min\u001b[39;00m args]\n",
      "File \u001b[0;32m~/venvs/test/lib/python3.12/site-packages/jax/_src/lax/lax.py:524\u001b[0m, in \u001b[0;36m_convert_element_type\u001b[0;34m(operand, new_dtype, weak_type)\u001b[0m\n\u001b[1;32m    521\u001b[0m \u001b[38;5;28;01mif\u001b[39;00m \u001b[38;5;28mhasattr\u001b[39m(operand, \u001b[38;5;124m'\u001b[39m\u001b[38;5;124m__jax_array__\u001b[39m\u001b[38;5;124m'\u001b[39m):\n\u001b[1;32m    522\u001b[0m   operand \u001b[38;5;241m=\u001b[39m operand\u001b[38;5;241m.\u001b[39m__jax_array__()\n\u001b[0;32m--> 524\u001b[0m \u001b[38;5;28;01mif\u001b[39;00m (\u001b[43mdtypes\u001b[49m\u001b[38;5;241;43m.\u001b[39;49m\u001b[43missubdtype\u001b[49m\u001b[43m(\u001b[49m\u001b[43mnew_dtype\u001b[49m\u001b[43m,\u001b[49m\u001b[43m \u001b[49m\u001b[43mdtypes\u001b[49m\u001b[38;5;241;43m.\u001b[39;49m\u001b[43mextended\u001b[49m\u001b[43m)\u001b[49m \u001b[38;5;129;01mor\u001b[39;00m\n\u001b[1;32m    525\u001b[0m     dtypes\u001b[38;5;241m.\u001b[39missubdtype(\u001b[38;5;28mgetattr\u001b[39m(operand, \u001b[38;5;124m'\u001b[39m\u001b[38;5;124mdtype\u001b[39m\u001b[38;5;124m'\u001b[39m, \u001b[38;5;28;01mNone\u001b[39;00m), dtypes\u001b[38;5;241m.\u001b[39mextended)):\n\u001b[1;32m    526\u001b[0m   \u001b[38;5;28;01mreturn\u001b[39;00m convert_element_type_p\u001b[38;5;241m.\u001b[39mbind(operand, new_dtype\u001b[38;5;241m=\u001b[39mnew_dtype,\n\u001b[1;32m    527\u001b[0m                                      weak_type\u001b[38;5;241m=\u001b[39m\u001b[38;5;28mbool\u001b[39m(weak_type))\n\u001b[1;32m    529\u001b[0m \u001b[38;5;66;03m# Don't canonicalize old_dtype because x64 context might cause\u001b[39;00m\n\u001b[1;32m    530\u001b[0m \u001b[38;5;66;03m# un-canonicalized operands to be passed in.\u001b[39;00m\n",
      "File \u001b[0;32m~/venvs/test/lib/python3.12/site-packages/jax/_src/dtypes.py:329\u001b[0m, in \u001b[0;36missubdtype\u001b[0;34m(a, b)\u001b[0m\n\u001b[1;32m    324\u001b[0m     \u001b[38;5;28;01mreturn\u001b[39;00m \u001b[38;5;28;01mFalse\u001b[39;00m\n\u001b[1;32m    327\u001b[0m \u001b[38;5;66;03m# TODO(jakevdp): consider whether to disallow None here. We allow it\u001b[39;00m\n\u001b[1;32m    328\u001b[0m \u001b[38;5;66;03m# because np.issubdtype allows it (and treats it as equivalent to float64).\u001b[39;00m\n\u001b[0;32m--> 329\u001b[0m \u001b[38;5;28;01mdef\u001b[39;00m \u001b[38;5;21missubdtype\u001b[39m(a: DTypeLike \u001b[38;5;241m|\u001b[39m \u001b[38;5;28;01mNone\u001b[39;00m, b: DTypeLike \u001b[38;5;241m|\u001b[39m \u001b[38;5;28;01mNone\u001b[39;00m) \u001b[38;5;241m-\u001b[39m\u001b[38;5;241m>\u001b[39m \u001b[38;5;28mbool\u001b[39m:\n\u001b[1;32m    330\u001b[0m \u001b[38;5;250m  \u001b[39m\u001b[38;5;124;03m\"\"\"Returns True if first argument is a typecode lower/equal in type hierarchy.\u001b[39;00m\n\u001b[1;32m    331\u001b[0m \n\u001b[1;32m    332\u001b[0m \u001b[38;5;124;03m  This is like :func:`numpy.issubdtype`, but can handle dtype extensions such as\u001b[39;00m\n\u001b[1;32m    333\u001b[0m \u001b[38;5;124;03m  :obj:`jax.dtypes.bfloat16` and `jax.dtypes.prng_key`.\u001b[39;00m\n\u001b[1;32m    334\u001b[0m \u001b[38;5;124;03m  \"\"\"\u001b[39;00m\n\u001b[1;32m    335\u001b[0m   \u001b[38;5;66;03m# Main departures from np.issubdtype are:\u001b[39;00m\n\u001b[1;32m    336\u001b[0m   \u001b[38;5;66;03m# - \"extended\" dtypes (like prng key types) are not normal numpy dtypes, so we\u001b[39;00m\n\u001b[1;32m    337\u001b[0m   \u001b[38;5;66;03m#   need to handle them specifically. However, their scalar types do conform to\u001b[39;00m\n\u001b[0;32m   (...)\u001b[0m\n\u001b[1;32m    344\u001b[0m   \u001b[38;5;66;03m# unhashable (e.g. custom objects with a dtype attribute). The following check is\u001b[39;00m\n\u001b[1;32m    345\u001b[0m   \u001b[38;5;66;03m# fast and covers the majority of calls to this function within JAX library code.\u001b[39;00m\n",
      "File \u001b[0;32m~/venvs/test/lib/python3.12/site-packages/debugpy/_vendored/pydevd/_pydevd_bundle/pydevd_trace_dispatch_regular.py:364\u001b[0m, in \u001b[0;36mThreadTracer.__call__\u001b[0;34m(self, frame, event, arg)\u001b[0m\n\u001b[1;32m    361\u001b[0m     \u001b[38;5;28;01mreturn\u001b[39;00m \u001b[38;5;28;01mNone\u001b[39;00m \u001b[38;5;28;01mif\u001b[39;00m event \u001b[38;5;241m==\u001b[39m \u001b[38;5;124m'\u001b[39m\u001b[38;5;124mcall\u001b[39m\u001b[38;5;124m'\u001b[39m \u001b[38;5;28;01melse\u001b[39;00m NO_FTRACE\n\u001b[1;32m    363\u001b[0m \u001b[38;5;66;03m# if thread is not alive, cancel trace_dispatch processing\u001b[39;00m\n\u001b[0;32m--> 364\u001b[0m \u001b[38;5;28;01mif\u001b[39;00m \u001b[38;5;129;01mnot\u001b[39;00m \u001b[43mis_thread_alive\u001b[49m\u001b[43m(\u001b[49m\u001b[43mt\u001b[49m\u001b[43m)\u001b[49m:\n\u001b[1;32m    365\u001b[0m     py_db\u001b[38;5;241m.\u001b[39mnotify_thread_not_alive(get_current_thread_id(t))\n\u001b[1;32m    366\u001b[0m     \u001b[38;5;28;01mreturn\u001b[39;00m \u001b[38;5;28;01mNone\u001b[39;00m \u001b[38;5;28;01mif\u001b[39;00m event \u001b[38;5;241m==\u001b[39m \u001b[38;5;124m'\u001b[39m\u001b[38;5;124mcall\u001b[39m\u001b[38;5;124m'\u001b[39m \u001b[38;5;28;01melse\u001b[39;00m NO_FTRACE\n",
      "File \u001b[0;32m~/venvs/test/lib/python3.12/site-packages/debugpy/_vendored/pydevd/_pydev_bundle/pydev_is_thread_alive.py:9\u001b[0m, in \u001b[0;36mis_thread_alive\u001b[0;34m(t)\u001b[0m\n\u001b[1;32m      6\u001b[0m _temp \u001b[38;5;241m=\u001b[39m threading\u001b[38;5;241m.\u001b[39mThread()\n\u001b[1;32m      7\u001b[0m \u001b[38;5;28;01mif\u001b[39;00m \u001b[38;5;28mhasattr\u001b[39m(_temp, \u001b[38;5;124m'\u001b[39m\u001b[38;5;124m_is_stopped\u001b[39m\u001b[38;5;124m'\u001b[39m):  \u001b[38;5;66;03m# Python 3.x has this\u001b[39;00m\n\u001b[0;32m----> 9\u001b[0m     \u001b[38;5;28;01mdef\u001b[39;00m \u001b[38;5;21mis_thread_alive\u001b[39m(t):\n\u001b[1;32m     10\u001b[0m         \u001b[38;5;28;01mreturn\u001b[39;00m \u001b[38;5;129;01mnot\u001b[39;00m t\u001b[38;5;241m.\u001b[39m_is_stopped\n\u001b[1;32m     12\u001b[0m \u001b[38;5;28;01melif\u001b[39;00m \u001b[38;5;28mhasattr\u001b[39m(_temp, \u001b[38;5;124m'\u001b[39m\u001b[38;5;124m_Thread__stopped\u001b[39m\u001b[38;5;124m'\u001b[39m):  \u001b[38;5;66;03m# Python 2.x has this\u001b[39;00m\n",
      "\u001b[0;31mKeyboardInterrupt\u001b[0m: "
     ]
    }
   ],
   "source": [
    "%timeit jax.vmap(jax.grad(rec_jit))(signal)\n",
    "%timeit jax.vmap(jax.grad(rec2_jit))(signal)\n",
    "%timeit jax.vmap(jax.grad(ev_jit))(signal)"
   ]
  },
  {
   "cell_type": "code",
   "execution_count": 23,
   "metadata": {},
   "outputs": [
    {
     "name": "stdout",
     "output_type": "stream",
     "text": [
      "130 μs ± 634 ns per loop (mean ± std. dev. of 7 runs, 10,000 loops each)\n",
      "132 μs ± 2.52 μs per loop (mean ± std. dev. of 7 runs, 10,000 loops each)\n",
      "1.22 ms ± 7.96 μs per loop (mean ± std. dev. of 7 runs, 1,000 loops each)\n"
     ]
    }
   ],
   "source": [
    "%timeit jax.vmap(rec_jit)(signal)\n",
    "%timeit jax.vmap(rec2_jit)(signal)\n",
    "%timeit jax.vmap(ev_jit)(signal)"
   ]
  },
  {
   "cell_type": "code",
   "execution_count": 3,
   "metadata": {},
   "outputs": [],
   "source": [
    "T = 8\n",
    "bs = 32\n",
    "# signal = jnp.array(np.random.randn(T)) * 1.\n",
    "signal = jnp.arange(T)\n",
    "signal_flip = jnp.flip(signal)\n"
   ]
  },
  {
   "cell_type": "code",
   "execution_count": 5,
   "metadata": {},
   "outputs": [
    {
     "data": {
      "text/plain": [
       "Array([[-10., -10., -10., -10., -10., -10., -10., -10.],\n",
       "       [-10., -10., -10., -10., -10., -10., -10., -10.],\n",
       "       [  0., -10., -10., -10., -10., -10., -10., -10.],\n",
       "       [  0.,   1., -10., -10., -10., -10., -10., -10.],\n",
       "       [  0.,   1.,   2., -10., -10., -10., -10., -10.],\n",
       "       [  0.,   1.,   2.,   3., -10., -10., -10., -10.],\n",
       "       [  0.,   1.,   2.,   3.,   4., -10., -10., -10.],\n",
       "       [  0.,   1.,   2.,   3.,   4.,   5., -10., -10.]],      dtype=float32, weak_type=True)"
      ]
     },
     "execution_count": 5,
     "metadata": {},
     "output_type": "execute_result"
    }
   ],
   "source": [
    "pred = Predicate('x', lambda x: x)\n",
    "\n",
    "subformula1 = pred > 0.\n",
    "subformula2 = pred < 5.\n",
    "interval = [2, T-1]\n",
    "\n",
    "# TODO (karenl7) this really assumes axis=1 is the time dimension. Can this be generalized?\n",
    "time_dim = 0  # assuming signal is [time_dim,...]\n",
    "LARGE_NUMBER = 10\n",
    "\n",
    "if isinstance(signal, tuple):\n",
    "    # for formula defined using Expression\n",
    "    assert signal[0].shape[time_dim] == signal[1].shape[time_dim]\n",
    "    trace1 = subformula1(signal[0])\n",
    "    trace2 = subformula2(signal[1])\n",
    "    n_time_steps = signal[0].shape[time_dim] # TODO: WIP\n",
    "else:\n",
    "    # for formula defined using Predicate\n",
    "    trace1 = subformula1(signal)\n",
    "    trace2 = subformula2(signal)\n",
    "    n_time_steps = signal.shape[time_dim] # TODO: WIP\n",
    "\n",
    "Alw = AlwaysRecurrent(subformula=Identity(name=str(subformula1)))\n",
    "LHS = jnp.permute_dims(jnp.repeat(jnp.expand_dims(trace2, -1), n_time_steps, axis=-1), [1,0])  # [sub_signal, t_prime]\n",
    "RHS = jnp.ones_like(LHS) * -LARGE_NUMBER  # [sub_signal, t_prime]\n",
    "\n",
    "trace1_padded = jnp.concatenate([trace1, jnp.repeat(trace1[-1], trace1.shape[0]-1)])\n",
    "\n",
    "def f_(carry, i):\n",
    "    y_ = jnp.ones(2 * T) * -LARGE_NUMBER\n",
    "    subsignal_padded = jax.lax.dynamic_slice(trace1_padded, (i,), (T,))\n",
    "    update_values = Alw(subsignal_padded)\n",
    "    y = jax.lax.dynamic_update_slice(y_, update_values[:interval[1] - interval[0] + 1], (i + interval[0],))\n",
    "    return carry, y\n",
    "\n",
    "jax.lax.scan(f_, 0, jnp.arange(n_time_steps))[1].T[:T]\n",
    "\n",
    "# Case 1, interval = [0, inf]\n",
    "if interval == None:\n",
    "    # for i in range(n_time_steps):\n",
    "    #     RHS = RHS.at[i:,i].set(Alw(trace1[i:]))\n",
    "    \n",
    "    def f_(carry, i):\n",
    "        y_ = jnp.ones(2 * T) * -LARGE_NUMBER\n",
    "        subtrace1 = jax.lax.dynamic_slice(trace1_padded, (i,), (T,))\n",
    "        update_values = Alw(subtrace1)\n",
    "        y = jax.lax.dynamic_update_slice(y_, update_values, (i,))\n",
    "        return carry, y\n",
    "\n",
    "    RHS = jax.lax.scan(f_, 0, jnp.arange(n_time_steps))[1].T[:T]\n",
    "elif interval[1] < jnp.inf:\n",
    "    a = interval[0]\n",
    "    b = interval[1]\n",
    "    for i in range(n_time_steps):\n",
    "        end = i+b+1\n",
    "        RHS = RHS.at[i+a:end,i].set(Alw(trace1[i:end])[a:])\n",
    "else:\n",
    "    hidden_state_ = ev.M @ hidden_state + ev.b * x\n",
    "    hx = jnp.concatenate([hidden_state, x], axis=time_dim)                             # [rnn_dim+1, ]\n",
    "    input_ = hx[:ev.steps]                               # [self.steps, ]\n",
    "    output = maxish(input_, time_dim)               # [1, ]\n",
    "RHS"
   ]
  },
  {
   "cell_type": "code",
   "execution_count": 7,
   "metadata": {},
   "outputs": [
    {
     "data": {
      "text/plain": [
       "Array([0., 1., 2., 3., 4., 5., 6., 7., 7., 7., 7., 7., 7., 7., 7., 7.],      dtype=float32)"
      ]
     },
     "execution_count": 7,
     "metadata": {},
     "output_type": "execute_result"
    }
   ],
   "source": [
    "signal_padded"
   ]
  },
  {
   "cell_type": "code",
   "execution_count": 8,
   "metadata": {},
   "outputs": [
    {
     "data": {
      "text/plain": [
       "Array([[-10., -10., -10., -10., -10., -10., -10., -10.],\n",
       "       [-10., -10., -10., -10., -10., -10., -10., -10.],\n",
       "       [  0., -10., -10., -10., -10., -10., -10., -10.],\n",
       "       [  0.,   1., -10., -10., -10., -10., -10., -10.],\n",
       "       [  0.,   1.,   2., -10., -10., -10., -10., -10.],\n",
       "       [  0.,   1.,   2.,   3., -10., -10., -10., -10.],\n",
       "       [  0.,   1.,   2.,   3.,   4., -10., -10., -10.],\n",
       "       [  0.,   1.,   2.,   3.,   4.,   5., -10., -10.]], dtype=float32)"
      ]
     },
     "execution_count": 8,
     "metadata": {},
     "output_type": "execute_result"
    }
   ],
   "source": [
    "signal_padded = jnp.concatenate([jnp.arange(T) , jnp.ones(T) * (T-1)])\n",
    "\n",
    "def scan(f, init, xs, length=None):\n",
    "  if xs is None:\n",
    "    xs = [None] * length\n",
    "  carry = init\n",
    "  ys = []\n",
    "  for x in xs:\n",
    "    carry, y = f(carry, x)\n",
    "    ys.append(y)\n",
    "  return carry, jnp.stack(ys)\n",
    "\n",
    "def f_(carry, i):\n",
    "    y_ = jnp.ones(2 * T) * -LARGE_NUMBER\n",
    "    subsignal_padded = jax.lax.dynamic_slice(signal_padded, (i,), (T,))\n",
    "    update_values = Alw(subsignal_padded)\n",
    "    y = jax.lax.dynamic_update_slice(y_, update_values[:interval[1] - interval[0] + 1], (i + interval[0],))\n",
    "    return carry, y\n",
    "scan(f_, 0, jnp.arange(n_time_steps))[1].T[:T]\n",
    "# jax.lax.scan(f_, 0, jnp.arange(n_time_steps))[1].T[:T]"
   ]
  },
  {
   "cell_type": "code",
   "execution_count": 31,
   "metadata": {},
   "outputs": [
    {
     "data": {
      "text/plain": [
       "Array([-10., -10., -10., -10., -10., -10., -10., -10.,   0.,   0.,   0.,\n",
       "         0.,   0.,   0.,   1.,   2.], dtype=float32)"
      ]
     },
     "execution_count": 31,
     "metadata": {},
     "output_type": "execute_result"
    }
   ],
   "source": [
    "y_ = jnp.ones(2 * T) * -LARGE_NUMBER\n",
    "subsignal = jax.lax.dynamic_slice(signal, (i,), (T,))\n",
    "update_values = Alw(subsignal)\n",
    "update_values\n",
    "y = jax.lax.dynamic_update_slice(y_, update_values, (i + 3,))\n",
    "y\n"
   ]
  },
  {
   "cell_type": "code",
   "execution_count": 397,
   "metadata": {},
   "outputs": [
    {
     "data": {
      "text/plain": [
       "(Array([-0.,  1.,  2.,  3.,  4.,  5.,  6.,  7.], dtype=float32, weak_type=True),\n",
       " Array([ 5.,  4.,  3.,  2.,  1.,  0., -1., -2.], dtype=float32, weak_type=True))"
      ]
     },
     "execution_count": 397,
     "metadata": {},
     "output_type": "execute_result"
    }
   ],
   "source": [
    "signal1 = trace1\n",
    "signal2 = trace2\n",
    "signal1, signal2\n"
   ]
  },
  {
   "cell_type": "code",
   "execution_count": 471,
   "metadata": {},
   "outputs": [],
   "source": [
    "hidden_dim = T\n",
    "M = jnp.diag(jnp.ones(hidden_dim-1), k=1)\n",
    "b = jnp.zeros(hidden_dim)\n",
    "b = b.at[-1].set(1)\n",
    "\n",
    "\n",
    "interval = [0, 4]\n",
    "if interval is None:\n",
    "    start_idx = 0\n",
    "    end_idx = hidden_dim\n",
    "else:\n",
    "    if interval[1] is jnp.inf:\n",
    "        start_idx = 0\n",
    "    else:\n",
    "        start_idx = -interval[1] - 1\n",
    "\n",
    "    if interval[0] == 0:\n",
    "        end_idx = hidden_dim\n",
    "    else: \n",
    "        end_idx = -interval[0]\n",
    "\n",
    "end_idx, start_idx, signal[start_idx:end_idx], signal\n",
    "@jax.jit\n",
    "def cell(state, hidden):\n",
    "    x1, x2 = state\n",
    "    h1, h2 = hidden\n",
    "    h1_new = minish(jnp.stack([M @ h1 + b * x1, x1 * jnp.ones(hidden_dim)]), axis=0, keepdims=False)\n",
    "    h2_new = M @ h2 + b * x2\n",
    "    # z = minish(jnp.stack([h1_new, h2_new]), axis=0, keepdims=False)[start_idx:end_idx]\n",
    "    z = minish(jnp.stack([h1_new, h2_new]), axis=0, keepdims=False)\n",
    "    def g_(carry, x):\n",
    "        carry = maxish(jnp.array([carry, x]), axis=0, keepdims=False)\n",
    "        return carry, carry\n",
    "    output, _ = jax.lax.scan(g_,  -10, z[start_idx:end_idx])\n",
    "    # output = jax.lax.scan(g_, jnp.ones(1) * -10, z[start_idx:end_idx])\n",
    "    # output = maxish(z, axis=0)\n",
    "    return output, (h1_new, h2_new)\n",
    "    "
   ]
  },
  {
   "cell_type": "code",
   "execution_count": 472,
   "metadata": {},
   "outputs": [
    {
     "data": {
      "text/plain": [
       "Array([0., 1., 2., 2., 2., 2., 2., 2.], dtype=float32)"
      ]
     },
     "execution_count": 472,
     "metadata": {},
     "output_type": "execute_result"
    }
   ],
   "source": [
    "\n",
    "h1 = -10 * jnp.ones_like(trace1)\n",
    "h2 = -10 * jnp.ones_like(trace2)\n",
    "\n",
    "\n",
    "os = []\n",
    "h1s = [h1]\n",
    "h2s = [h2]\n",
    "for (x1,x2) in zip(signal1, signal2):\n",
    "    o, (h1, h2) = cell((x1, x2), (h1, h2))\n",
    "    os.append(o)\n",
    "    h1s.append(h1)\n",
    "    h2s.append(h2)\n",
    "jnp.stack(os)"
   ]
  },
  {
   "cell_type": "code",
   "execution_count": 459,
   "metadata": {},
   "outputs": [
    {
     "data": {
      "text/plain": [
       "Array([-0.,  1.,  2.,  2.,  2.,  2.,  2.,  2.], dtype=float32)"
      ]
     },
     "execution_count": 459,
     "metadata": {},
     "output_type": "execute_result"
    }
   ],
   "source": [
    "rec = UntilRecurrent(pred > 0., pred < 5., interval=interval, )\n",
    "rec.LARGE_NUMBER = 10\n",
    "rec(signal)"
   ]
  },
  {
   "cell_type": "code",
   "execution_count": 67,
   "metadata": {},
   "outputs": [],
   "source": [
    "def scan(f, init, xs, length=None):\n",
    "    if xs is None:\n",
    "        xs = [None] * length\n",
    "    carry = init\n",
    "    ys = []\n",
    "    for x in xs:\n",
    "        carry, y = f(carry, x)\n",
    "        ys.append(y)\n",
    "    return carry, jnp.stack(ys)\n",
    "\n",
    "class UntilRecurrent3(STL_Formula):\n",
    "    \n",
    "    def __init__(self, subformula1, subformula2, interval=None, overlap=True):\n",
    "        super().__init__()\n",
    "        self.subformula1 = subformula1\n",
    "        self.subformula2 = subformula2\n",
    "        self.interval = interval\n",
    "        if overlap == False:\n",
    "            self.subformula2 = Eventually(subformula=subformula2, interval=[0,1])\n",
    "        self.LARGE_NUMBER = 1E9\n",
    "        self.Alw = AlwaysRecurrent(subformula=Identity(name=str(self.subformula1)))\n",
    "        \n",
    "        if self.interval is None:\n",
    "            self.hidden_dim = None\n",
    "        elif interval[1] == jnp.inf:\n",
    "            self.hidden_dim = None\n",
    "        else:\n",
    "            self.hidden_dim = interval[1] + 1\n",
    "            \n",
    "        \n",
    "\n",
    "        \n",
    "    def _initialize_hidden_state(self, signal, padding=None, **kwargs):\n",
    "        time_dim = 0  # assuming signal is [time_dim,...]        \n",
    "\n",
    "        if isinstance(signal, tuple):\n",
    "            # for formula defined using Expression\n",
    "            assert signal[0].shape[time_dim] == signal[1].shape[time_dim]\n",
    "            trace1 = self.subformula1(signal[0], **kwargs)\n",
    "            trace2 = self.subformula2(signal[1], **kwargs)\n",
    "            n_time_steps = signal[0].shape[time_dim]\n",
    "        else:\n",
    "            # for formula defined using Predicate\n",
    "            trace1 = self.subformula1(signal, **kwargs)\n",
    "            trace2 = self.subformula2(signal, **kwargs)\n",
    "            n_time_steps = signal.shape[time_dim]\n",
    "            \n",
    "        # compute hidden dim if signal length was needed\n",
    "        if self.hidden_dim is None:\n",
    "            self.hidden_dim = n_time_steps\n",
    "        if self.interval is None: \n",
    "            self.interval = [0, n_time_steps - 1]\n",
    "        elif self.interval[1] == jnp.inf:\n",
    "            self.interval[1] = n_time_steps - 1\n",
    "            \n",
    "        self.ones_array = jnp.ones(self.hidden_dim)\n",
    "            \n",
    "        # set shift operations given hidden_dim\n",
    "        self.M = jnp.diag(jnp.ones(self.hidden_dim-1), k=1)\n",
    "        self.b = jnp.zeros(self.hidden_dim)\n",
    "        self.b = self.b.at[-1].set(1)\n",
    "        \n",
    "        pad_value = -self.LARGE_NUMBER\n",
    "            \n",
    "        h1 = pad_value * self.ones_array\n",
    "        h2 = pad_value * self.ones_array\n",
    "        return (h1, h2), trace1, trace2\n",
    "        \n",
    "    def _get_interval_indices(self):\n",
    "        start_idx = -self.hidden_dim\n",
    "        end_idx = -self.interval[0]\n",
    "\n",
    "        return start_idx, (None if end_idx  == 0 else end_idx)\n",
    "\n",
    "    def _cell(self, state, hidden, **kwargs):\n",
    "        x1, x2 = state\n",
    "        h1, h2 = hidden\n",
    "        h1_shift = self.M @ h1 + self.b * x1\n",
    "        h1_new = jnp.flip(self.Alw(jnp.flip(h1_shift), **kwargs))\n",
    "        # h1_new = minish(jnp.stack([self.M @ h1 + self.b * x1, \n",
    "        #                            x1 * self.ones_array]), \n",
    "        #                 axis=0, keepdims=False, **kwargs)\n",
    "        h2_new = self.M @ h2 + self.b * x2\n",
    "        start_idx, end_idx = self._get_interval_indices()\n",
    "        z = minish(jnp.stack([h1_new, h2_new]), axis=0, keepdims=False, **kwargs)[start_idx:end_idx]\n",
    "        \n",
    "            \n",
    "        def g_(carry, x):\n",
    "            carry = maxish(jnp.array([carry, x]), axis=0, keepdims=False, **kwargs)\n",
    "            return carry, carry\n",
    "\n",
    "        # output, _ = scan(g_,  -self.LARGE_NUMBER, z)\n",
    "        # output = maxish(z[start_idx:end_idx], axis=0, keepdims=False, **kwargs)\n",
    "        output, _ = jax.lax.scan(g_,  -self.LARGE_NUMBER, z[start_idx:end_idx])\n",
    "\n",
    "        return output, (h1_new, h2_new)\n",
    "    \n",
    "    def robustness_trace(self, signal, padding=None, **kwargs):\n",
    "        \"\"\"\n",
    "        Function to run a signal through a cell T times, where T is the length of the signal in the time dimension\n",
    "\n",
    "        Args:\n",
    "            signal: input signal, size = [time_dim,]\n",
    "            time_dim: axis corresponding to time_dim. Default: 0\n",
    "            kwargs: Other arguments including time_dim, approx_method, temperature\n",
    "\n",
    "        Return:\n",
    "            outputs: list of outputs\n",
    "            states: list of hidden_states\n",
    "        \"\"\"\n",
    "        # outputs = []\n",
    "        # states = []\n",
    "        hidden_state, trace1, trace2 = self._initialize_hidden_state(signal, padding=padding, **kwargs) # [hidden_dim]\n",
    "        \n",
    "        \n",
    "        def f_(hidden, state):\n",
    "            o, hidden = self._cell(state, hidden, **kwargs)\n",
    "            return hidden, o\n",
    "        # os = []\n",
    "        # for (t1, t2) in zip(trace1, trace2):\n",
    "        #     hidden_state, output = f_(hidden_state, (t1, t2))\n",
    "        #     os.append(output)\n",
    "        # return jnp.stack(os)\n",
    "        \n",
    "        # _, outputs_stack = scan(f_, hidden_state, jnp.stack([trace1, trace2], axis=1))\n",
    "        \n",
    "        \n",
    "\n",
    "        _, outputs_stack = jax.lax.scan(f_, hidden_state, jnp.stack([trace1, trace2], axis=1))\n",
    "        return outputs_stack\n",
    "\n",
    "    def robustness(self, signal, **kwargs):\n",
    "        \"\"\"\n",
    "        Computes the robustness value. Extracts the last entry along time_dim of robustness trace.\n",
    "\n",
    "        Args:\n",
    "            signal: jnp.array or Expression. Expected size [bs, time_dim, state_dim]\n",
    "            kwargs: Other arguments including time_dim, approx_method, temperature\n",
    "\n",
    "        Return: jnp.array, same as input with the time_dim removed.\n",
    "        \"\"\"\n",
    "        return self.__call__(signal, **kwargs)[-1]\n",
    "        # return jnp.rollaxis(self.__call__(signal, **kwargs), time_dim)[-1]\n",
    "    def _next_function(self):\n",
    "        \"\"\" next function is the input subformulas. For visualization purposes \"\"\"\n",
    "        return [self.subformula1, self.subformula2]\n",
    "\n",
    "    def __str__(self):\n",
    "        return  \"(\" + str(self.subformula1) + \")\" + \" U \" + \"(\" + str(self.subformula2) + \")\"\n",
    "\n"
   ]
  },
  {
   "cell_type": "code",
   "execution_count": 1,
   "metadata": {},
   "outputs": [],
   "source": [
    "%load_ext autoreload\n",
    "%autoreload 2"
   ]
  },
  {
   "cell_type": "code",
   "execution_count": 2,
   "metadata": {},
   "outputs": [],
   "source": [
    "\n",
    "\n",
    "import jax\n",
    "from stljax.formula import *\n",
    "import numpy as np"
   ]
  },
  {
   "cell_type": "code",
   "execution_count": 11,
   "metadata": {},
   "outputs": [],
   "source": [
    "\n",
    "\n"
   ]
  },
  {
   "cell_type": "code",
   "execution_count": 36,
   "metadata": {},
   "outputs": [],
   "source": [
    "pred = Predicate('x', lambda x: x)\n",
    "interval = [3,6]\n",
    "phi = pred > 0\n",
    "psi = pred < 0\n",
    "# rec3 = UntilRecurrent3(phi, psi, interval=interval)\n",
    "rec = UntilRecurrent(phi, psi, interval=interval)\n",
    "until = Until(phi, psi, interval=interval)\n",
    "alw = AlwaysRecurrent(pred > 0)\n"
   ]
  },
  {
   "cell_type": "code",
   "execution_count": 43,
   "metadata": {},
   "outputs": [],
   "source": [
    "T = 64\n",
    "signal = jnp.array(np.random.randn(T))\n",
    "# signal = jnp.arange(T) * 1.\n",
    "signal_flip = jnp.flip(signal)\n",
    "kwargs = {\"approx_method\" : \"logsumexp\", \"temperature\" : .1}"
   ]
  },
  {
   "cell_type": "code",
   "execution_count": 44,
   "metadata": {},
   "outputs": [
    {
     "data": {
      "text/plain": [
       "Array([ True,  True,  True,  True,  True,  True,  True,  True,  True,\n",
       "        True,  True,  True,  True,  True,  True,  True,  True,  True,\n",
       "        True,  True,  True,  True,  True,  True,  True,  True,  True,\n",
       "        True,  True,  True,  True,  True,  True,  True,  True,  True,\n",
       "        True,  True,  True,  True,  True,  True,  True,  True,  True,\n",
       "        True,  True,  True,  True,  True,  True,  True,  True,  True,\n",
       "        True,  True,  True,  True,  True,  True,  True,  True,  True,\n",
       "        True], dtype=bool)"
      ]
     },
     "execution_count": 44,
     "metadata": {},
     "output_type": "execute_result"
    }
   ],
   "source": [
    "jnp.isclose(jnp.flip(rec(signal_flip, **kwargs)),  until(signal, **kwargs))"
   ]
  },
  {
   "cell_type": "code",
   "execution_count": 45,
   "metadata": {},
   "outputs": [
    {
     "data": {
      "text/plain": [
       "Array([ True,  True,  True,  True,  True,  True,  True,  True,  True,\n",
       "        True,  True,  True,  True,  True,  True,  True,  True,  True,\n",
       "        True,  True,  True,  True,  True,  True,  True,  True,  True,\n",
       "        True,  True,  True,  True,  True,  True,  True,  True,  True,\n",
       "        True,  True,  True,  True,  True,  True,  True,  True,  True,\n",
       "        True,  True,  True,  True,  True,  True,  True,  True,  True,\n",
       "        True,  True,  True,  True,  True,  True,  True,  True,  True,\n",
       "        True], dtype=bool)"
      ]
     },
     "execution_count": 45,
     "metadata": {},
     "output_type": "execute_result"
    }
   ],
   "source": [
    "jnp.isclose(jax.grad(until.robustness)(signal, **kwargs), jnp.flip(jax.grad(rec.robustness)(signal_flip, **kwargs)))"
   ]
  },
  {
   "cell_type": "code",
   "execution_count": 22,
   "metadata": {},
   "outputs": [],
   "source": [
    "def foo(signal, **kwargs):\n",
    "    signal_flip = jnp.flip(signal)\n",
    "    h1 = jnp.flip(AlwaysRecurrent(pred > 0.)(jnp.flip(phi(signal_flip)), **kwargs))\n",
    "    h2 = psi(signal_flip, **kwargs)\n",
    "    return maxish(minish(jnp.stack([h1, h2]), axis=0, keepdims=False, **kwargs), axis=0, keepdims=False, **kwargs)"
   ]
  },
  {
   "cell_type": "code",
   "execution_count": 46,
   "metadata": {},
   "outputs": [],
   "source": [
    "T = 3\n",
    "signal = jnp.array(np.random.randn(T))\n",
    "# signal = jnp.arange(T) * 1.\n",
    "signal_flip = jnp.flip(signal)"
   ]
  },
  {
   "cell_type": "code",
   "execution_count": 47,
   "metadata": {},
   "outputs": [],
   "source": [
    "def foo(signal, **kwargs):\n",
    "    signal_flip = jnp.flip(signal)\n",
    "    h1 = jnp.flip(AlwaysRecurrent(pred > 0.)(jnp.flip(phi(signal_flip)), **kwargs))\n",
    "    h2 = psi(signal_flip, **kwargs)\n",
    "    return maxish(minish(jnp.stack([h1, h2]), axis=0, keepdims=False, **kwargs), axis=0, keepdims=False, **kwargs)"
   ]
  },
  {
   "cell_type": "code",
   "execution_count": 48,
   "metadata": {},
   "outputs": [
    {
     "data": {
      "text/plain": [
       "(Array(-0.43033767, dtype=float32), Array(-0.81656384, dtype=float32))"
      ]
     },
     "execution_count": 48,
     "metadata": {},
     "output_type": "execute_result"
    }
   ],
   "source": [
    "kwargs = {\"approx_method\" : \"true\", \"temperature\" : 1.}\n",
    "\n",
    "foo(signal, **kwargs), rec(signal_flip, **kwargs)[-1]"
   ]
  },
  {
   "cell_type": "code",
   "execution_count": 49,
   "metadata": {},
   "outputs": [
    {
     "data": {
      "text/plain": [
       "(Array([-0.43033767, -0.43033767, -0.43033767], dtype=float32),\n",
       " Array([-0.43033767, -0.43033767, -0.81656384], dtype=float32))"
      ]
     },
     "execution_count": 49,
     "metadata": {},
     "output_type": "execute_result"
    }
   ],
   "source": [
    "until(signal, **kwargs), rec(signal_flip, **kwargs)"
   ]
  },
  {
   "cell_type": "code",
   "execution_count": null,
   "metadata": {},
   "outputs": [],
   "source": []
  },
  {
   "cell_type": "code",
   "execution_count": null,
   "metadata": {},
   "outputs": [],
   "source": []
  },
  {
   "cell_type": "code",
   "execution_count": 13,
   "metadata": {},
   "outputs": [
    {
     "data": {
      "text/plain": [
       "(Array([-5.73977537e-04, -5.73977537e-04, -5.73977537e-04, -5.73977537e-04,\n",
       "        -5.73977537e-04, -1.61394596e+00, -4.42734033e-01, -6.88218832e-01,\n",
       "        -6.13067687e-01, -8.75325859e-01, -1.05930471e+00, -4.99185435e-02,\n",
       "        -4.99185435e-02, -4.99185435e-02, -3.03746879e-01, -1.93259704e+00,\n",
       "        -1.00921392e+00, -6.05401397e-02, -6.05401397e-02, -6.36790395e-02,\n",
       "        -1.01843126e-01, -5.11364974e-02, -7.50980735e-01, -3.18519950e-01,\n",
       "        -3.18519950e-01, -4.13318336e-01, -4.13318336e-01, -5.32822967e-01,\n",
       "        -1.83786780e-01, -1.86913177e-01, -1.86913177e-01, -1.86913177e-01,\n",
       "        -1.86913177e-01, -2.53182411e-01, -2.53182411e-01, -2.53563792e-01,\n",
       "        -2.53563792e-01, -2.53563792e-01, -5.73892951e-01, -5.73892951e-01,\n",
       "        -9.22766149e-01, -1.37707424e+00, -1.37707424e+00, -3.25560033e-01,\n",
       "        -1.04137695e+00, -1.04137695e+00, -1.50983977e+00, -1.94225740e+00,\n",
       "        -1.28538325e-01, -1.28538325e-01], dtype=float32),\n",
       " Array([-5.73977537e-04, -5.73977537e-04, -5.73977537e-04, -5.73977537e-04,\n",
       "        -5.73977537e-04, -1.61394596e+00, -4.42734033e-01, -6.88218832e-01,\n",
       "        -6.13067687e-01, -8.75325859e-01, -1.05930471e+00, -4.99185435e-02,\n",
       "        -4.99185435e-02, -4.99185435e-02, -3.03746879e-01, -1.93259704e+00,\n",
       "        -1.00921392e+00, -6.05401397e-02, -6.05401397e-02, -6.36790395e-02,\n",
       "        -1.01843126e-01, -5.11364974e-02, -7.50980735e-01, -3.18519950e-01,\n",
       "        -3.18519950e-01, -4.13318336e-01, -4.13318336e-01, -5.32822967e-01,\n",
       "        -1.83786780e-01, -1.86913177e-01, -1.86913177e-01, -1.86913177e-01,\n",
       "        -1.86913177e-01, -2.53182411e-01, -2.53182411e-01, -2.53563792e-01,\n",
       "        -2.53563792e-01, -2.53563792e-01, -5.73892951e-01, -5.73892951e-01,\n",
       "        -9.22766149e-01, -1.37707424e+00, -1.37707424e+00, -3.25560033e-01,\n",
       "        -1.04137695e+00, -1.04137695e+00, -1.50983977e+00, -1.94225740e+00,\n",
       "        -1.28538325e-01, -1.28538325e-01], dtype=float32))"
      ]
     },
     "execution_count": 13,
     "metadata": {},
     "output_type": "execute_result"
    }
   ],
   "source": [
    "until(signal), jnp.flip(rec(signal_flip))"
   ]
  },
  {
   "cell_type": "code",
   "execution_count": 14,
   "metadata": {},
   "outputs": [
    {
     "data": {
      "text/plain": [
       "(Array([ 8.0887549e-02,  7.1398571e-02,  5.2506059e-02,  4.4118419e-02,\n",
       "         3.8021035e-02,  3.9438665e-02,  2.5784096e-02,  2.5979640e-02,\n",
       "         2.2618465e-02,  2.0733533e-02,  1.8976128e-02,  1.4920744e-02,\n",
       "         1.2367797e-02,  1.2386629e-02,  1.0970533e-02,  1.3010621e-02,\n",
       "         1.0763054e-02,  7.7401712e-03,  8.0887312e-03,  7.5811846e-03,\n",
       "         7.0417966e-03,  6.4791893e-03,  6.5016444e-03,  5.2549215e-03,\n",
       "         4.9364488e-03,  4.2471630e-03,  4.6072234e-03,  4.3215789e-03,\n",
       "         3.8389773e-03,  3.2825232e-03,  2.9449437e-03,  2.6948359e-03,\n",
       "         2.6464318e-03,  2.3802374e-03,  2.3305425e-03,  1.9873180e-03,\n",
       "         1.7358368e-03,  1.6275193e-03,  1.2770338e-03,  1.2412656e-03,\n",
       "         1.0411248e-03,  8.1419945e-04,  1.0423237e-03,  7.6544331e-04,\n",
       "         4.7755538e-04,  3.9527827e-04,  2.5827708e-04,  3.1924795e-04,\n",
       "         9.8878321e-05, -2.8274153e-06], dtype=float32),\n",
       " Array([ 7.59146959e-02,  1.02493875e-01,  5.28910011e-02,  2.42940970e-02,\n",
       "         9.67229903e-03,  4.23143804e-03,  1.09535467e-03,  4.29022475e-04,\n",
       "         1.43109850e-04,  4.94907945e-05,  1.69304312e-05,  5.02826606e-06,\n",
       "         1.56679334e-06,  5.74197998e-07,  1.89052642e-07,  8.02045008e-08,\n",
       "         2.46243470e-08,  6.68722855e-09,  2.49304621e-09,  8.44502801e-10,\n",
       "         2.83127771e-10,  9.40211242e-11,  3.36718708e-11,  9.98989693e-12,\n",
       "         3.38060374e-12,  1.06297208e-12,  4.07808769e-13,  1.38211382e-13,\n",
       "         4.46565900e-14,  1.39550414e-14,  4.53283414e-15,  1.48812572e-15,\n",
       "         5.12679291e-16,  1.61215781e-16,  5.30632790e-17,  1.50143389e-17,\n",
       "         4.14706421e-18,  1.14762304e-18,  2.58076603e-19,  6.35215515e-20,\n",
       "         1.27760760e-20,  2.21728752e-21,  4.94623058e-22,  6.36196567e-23,\n",
       "         6.44827013e-24,  6.70326567e-25,  5.02669164e-26,  4.12029562e-27,\n",
       "         1.16545364e-28, -6.35393253e-32], dtype=float32))"
      ]
     },
     "execution_count": 14,
     "metadata": {},
     "output_type": "execute_result"
    }
   ],
   "source": [
    "jax.grad(until.robustness)(signal, **kwargs), jnp.flip(jax.grad(rec.robustness)(signal_flip, **kwargs))"
   ]
  },
  {
   "cell_type": "code",
   "execution_count": 177,
   "metadata": {},
   "outputs": [
    {
     "data": {
      "text/plain": [
       "(Array(4.9634266, dtype=float32),\n",
       " Array(4.9634266, dtype=float32),\n",
       " Array([0.10051197, 0.08580505, 0.05046772, 0.02427344, 0.01971575,\n",
       "        0.0054059 ], dtype=float32),\n",
       " Array([0.10051195, 0.08580505, 0.05046772, 0.02427343, 0.01971575,\n",
       "        0.0054059 ], dtype=float32))"
      ]
     },
     "execution_count": 177,
     "metadata": {},
     "output_type": "execute_result"
    }
   ],
   "source": [
    "foo(signal, **kwargs), goo(signal, **kwargs), jax.grad(foo)(signal, **kwargs), jax.grad(goo)(signal, **kwargs)\n"
   ]
  },
  {
   "cell_type": "code",
   "execution_count": 175,
   "metadata": {},
   "outputs": [],
   "source": [
    "def foo(signal, **kwargs):\n",
    "    # return jnp.concatenate([minish(jnp.concatenate([minish(s1[:i+1], axis=0), s2[i:i+1]]), axis=0) for (i, s1i) in enumerate(s1)])\n",
    "    s1, s2 = signal, -signal\n",
    "    return maxish(jnp.concatenate([minish(jnp.concatenate([minish(s1[:i+1], axis=0, **kwargs), s2[i:i+1]]), axis=0, **kwargs) for (i, s1i) in enumerate(s1)]), axis=0, keepdims=False, **kwargs)\n",
    "\n",
    "def goo(signal, **kwargs):\n",
    "    s1, s2 = signal, -signal\n",
    "    T = signal.shape[0]\n",
    "    m1 = jnp.ones([2*T, T]) * 1E9\n",
    "    for i in range(signal.shape[0]):\n",
    "        m1 = m1.at[:i+1,i].set(s1[:i+1])\n",
    "    return maxish(minish(jnp.stack([minish(m1, axis=0, keepdims=False, **kwargs), s2]), axis=0, keepdims=False, **kwargs), axis=0, keepdims=False, **kwargs)\n",
    "        \n",
    "        "
   ]
  },
  {
   "cell_type": "code",
   "execution_count": 176,
   "metadata": {},
   "outputs": [
    {
     "data": {
      "text/plain": [
       "(Array(4.9634266, dtype=float32),\n",
       " Array(4.9634266, dtype=float32),\n",
       " Array([0.10051197, 0.08580505, 0.05046772, 0.02427344, 0.01971575,\n",
       "        0.0054059 ], dtype=float32),\n",
       " Array([0.10051195, 0.08580505, 0.05046772, 0.02427343, 0.01971575,\n",
       "        0.0054059 ], dtype=float32))"
      ]
     },
     "execution_count": 176,
     "metadata": {},
     "output_type": "execute_result"
    }
   ],
   "source": [
    "foo(signal, **kwargs), goo(signal, **kwargs), jax.grad(foo)(signal, **kwargs), jax.grad(goo)(signal, **kwargs)"
   ]
  },
  {
   "cell_type": "code",
   "execution_count": 109,
   "metadata": {},
   "outputs": [
    {
     "data": {
      "text/plain": [
       "(Array([0.29642978, 0.29811913, 0.2959793 ], dtype=float32),\n",
       " Array([0.14931634, 0.15016729, 0.14908943], dtype=float32))"
      ]
     },
     "execution_count": 109,
     "metadata": {},
     "output_type": "execute_result"
    }
   ],
   "source": [
    "fill_value = -1E2\n",
    "def foo1(x, **kwargs):\n",
    "    s = jnp.concatenate([x, jnp.array([fill_value] * 1)])\n",
    "    return maxish(s, axis=0, keepdims=False, **kwargs)\n",
    "\n",
    "def foo2(x, **kwargs):\n",
    "    s = jnp.concatenate([x, jnp.array([fill_value] * 10)])\n",
    "    return maxish(s, axis=0, keepdims=False, **kwargs)\n",
    "\n",
    "\n",
    "approx_method=\"logsumexp\"\n",
    "temperature = .01\n",
    "jax.grad(foo1)(signal, approx_method=approx_method, temperature=temperature), \\\n",
    "    jax.grad(foo2)(signal, approx_method=approx_method, temperature=temperature)"
   ]
  },
  {
   "cell_type": "code",
   "execution_count": 78,
   "metadata": {},
   "outputs": [
    {
     "data": {
      "text/plain": [
       "(Array([-0.14885019, -0.22690026, -0.1048732 ], dtype=float32),\n",
       " Array([-0.01470247, -0.19181027, -0.06849375], dtype=float32),\n",
       " Array([-0.0147025 , -0.19181027, -0.06849375], dtype=float32))"
      ]
     },
     "execution_count": 78,
     "metadata": {},
     "output_type": "execute_result"
    }
   ],
   "source": [
    "LARGE_NUMBER = 1E9\n",
    "\n",
    "jnp.flip(jax.grad(rec3.robustness)(signal_flip, approx_method=approx_method, temperature=temperature)), \\\n",
    "    jnp.flip(jax.grad(rec.robustness)(signal_flip, approx_method=approx_method, temperature=temperature)), \\\n",
    "        jax.grad(until.robustness)(signal * 1., approx_method=approx_method, temperature=temperature)"
   ]
  },
  {
   "cell_type": "code",
   "execution_count": 21,
   "metadata": {},
   "outputs": [
    {
     "data": {
      "text/plain": [
       "(Array([-1.0590287e+00, -1.0590287e+00,  1.4155310e-01,  1.4155310e-01,\n",
       "         1.4155310e-01, -1.0285740e+00, -1.0285740e+00, -1.0285740e+00,\n",
       "        -1.0000000e+09, -1.0000000e+09], dtype=float32),\n",
       " Array([-1.0590287e+00, -1.0590287e+00,  1.4155310e-01,  1.4155310e-01,\n",
       "         1.4155310e-01, -1.0285740e+00, -1.0285740e+00, -1.0285740e+00,\n",
       "        -1.0000000e+09, -1.0000000e+09], dtype=float32),\n",
       " Array([-1.0590287e+00, -1.0590287e+00,  1.4155310e-01,  1.4155310e-01,\n",
       "         1.4155310e-01, -1.0285740e+00, -1.0285740e+00, -1.0285740e+00,\n",
       "        -1.0000000e+09, -1.0000000e+09], dtype=float32))"
      ]
     },
     "execution_count": 21,
     "metadata": {},
     "output_type": "execute_result"
    }
   ],
   "source": [
    "jnp.flip(rec3(signal_flip)),\\\n",
    "    jnp.flip(rec(signal_flip)),\\\n",
    "        until(signal)"
   ]
  },
  {
   "cell_type": "code",
   "execution_count": 442,
   "metadata": {},
   "outputs": [],
   "source": [
    "def foo(signal, **kwargs):\n",
    "    # return jnp.concatenate([minish(jnp.concatenate([minish(s1[:i+1], axis=0), s2[i:i+1]]), axis=0) for (i, s1i) in enumerate(s1)])\n",
    "    s1, s2 = signal, -signal\n",
    "    return maxish(jnp.concatenate([minish(jnp.concatenate([minish(s1[:i+1], axis=0, **kwargs), s2[i:i+1]]), axis=0, **kwargs) for (i, s1i) in enumerate(s1)]), axis=0, keepdims=False, **kwargs)\n",
    "\n",
    "def goo(signal, **kwargs):\n",
    "    s1, s2 = signal, -signal\n",
    "    m1 = jnp.ones([6, 3]) * 1E9\n",
    "    for i in range(signal.shape[0]):\n",
    "        m1 = m1.at[:i+1,i].set(s1[:i+1])\n",
    "    return maxish(minish(jnp.stack([minish(m1, axis=0, keepdims=False, **kwargs), s2]), axis=0, keepdims=False, **kwargs), axis=0, keepdims=False, **kwargs)\n",
    "        \n",
    "        "
   ]
  },
  {
   "cell_type": "code",
   "execution_count": 443,
   "metadata": {},
   "outputs": [
    {
     "data": {
      "text/plain": [
       "(Array(0.77383757, dtype=float32), Array(0.77383757, dtype=float32))"
      ]
     },
     "execution_count": 443,
     "metadata": {},
     "output_type": "execute_result"
    }
   ],
   "source": [
    "kwargs = {\"approx_method\" : \"logsumexp\", \"temperature\" : .1}\n",
    "foo(signal[:3], **kwargs), goo(signal[:3], **kwargs)"
   ]
  },
  {
   "cell_type": "code",
   "execution_count": 444,
   "metadata": {},
   "outputs": [
    {
     "data": {
      "text/plain": [
       "(Array([ 0.13727403,  0.08534604, -0.00567825], dtype=float32),\n",
       " Array([ 0.13727403,  0.08534605, -0.00567825], dtype=float32))"
      ]
     },
     "execution_count": 444,
     "metadata": {},
     "output_type": "execute_result"
    }
   ],
   "source": [
    "jax.grad(foo)(signal[:3], **kwargs), jax.grad(goo)(signal[:3], **kwargs)"
   ]
  },
  {
   "cell_type": "code",
   "execution_count": 454,
   "metadata": {},
   "outputs": [],
   "source": [
    "rec3 = UntilRecurrent3(pred > 0, pred < 0, interval=None)\n",
    "rec = UntilRecurrent(pred > 0, pred < 0, interval=None)\n",
    "until = Until(pred > 0, pred < 0, interval=None)"
   ]
  },
  {
   "cell_type": "code",
   "execution_count": 457,
   "metadata": {},
   "outputs": [
    {
     "name": "stdout",
     "output_type": "stream",
     "text": [
      "(Array([-1.000000e+09, -1.000000e+09,  3.660597e-01], dtype=float32), Array([-1.000000e+09, -1.000000e+09, -3.660597e-01], dtype=float32))\n",
      "(Array([-1.0000000e+09, -1.1143353e+00, -1.1143353e+00], dtype=float32), Array([-1.0000000e+09, -3.6605969e-01,  1.1143353e+00], dtype=float32))\n",
      "(Array([-1.1143353, -1.1143353,  0.5115534], dtype=float32), Array([-0.3660597,  1.1143353, -0.5115534], dtype=float32))\n"
     ]
    },
    {
     "data": {
      "text/plain": [
       "Array(-0.5115534, dtype=float32)"
      ]
     },
     "execution_count": 457,
     "metadata": {},
     "output_type": "execute_result"
    }
   ],
   "source": [
    "rec3.robustness(signal[:3])"
   ]
  },
  {
   "cell_type": "code",
   "execution_count": 458,
   "metadata": {},
   "outputs": [
    {
     "data": {
      "text/plain": [
       "Array([ 0.3660597, -1.1143353,  0.5115534], dtype=float32)"
      ]
     },
     "execution_count": 458,
     "metadata": {},
     "output_type": "execute_result"
    }
   ],
   "source": [
    "signal[:3]"
   ]
  },
  {
   "cell_type": "code",
   "execution_count": null,
   "metadata": {},
   "outputs": [],
   "source": []
  },
  {
   "cell_type": "code",
   "execution_count": null,
   "metadata": {},
   "outputs": [],
   "source": []
  },
  {
   "cell_type": "code",
   "execution_count": 451,
   "metadata": {},
   "outputs": [
    {
     "name": "stdout",
     "output_type": "stream",
     "text": [
      "(Traced<ConcreteArray([-1.000000e+09 -1.000000e+09 -6.565412e+00], dtype=float32)>with<JVPTrace(level=2/0)> with\n",
      "  primal = Array([-1.000000e+09, -1.000000e+09, -6.565412e+00], dtype=float32)\n",
      "  tangent = Traced<ShapedArray(float32[3])>with<JaxprTrace(level=1/0)> with\n",
      "    pval = (ShapedArray(float32[3]), None)\n",
      "    recipe = JaxprEqnRecipe(eqn_id=<object object at 0x33f117dd0>, in_tracers=(Traced<ShapedArray(float32[2,3]):JaxprTrace(level=1/0)>, Traced<ConcreteArray([ True  True  True], dtype=bool):JaxprTrace(level=1/0)>, Traced<ConcreteArray(0.10000000149011612, dtype=float32):JaxprTrace(level=1/0)>, Traced<ConcreteArray([[4.4376106 4.4376106 1.       ]\n",
      " [0.        0.        1.       ]], dtype=float32):JaxprTrace(level=1/0)>, Traced<ConcreteArray([4.4376106 4.4376106 2.       ], dtype=float32):JaxprTrace(level=1/0)>, Traced<ConcreteArray(0.10000000149011612, dtype=float32):JaxprTrace(level=1/0)>), out_tracer_refs=[<weakref at 0x341b482c0; to 'JaxprTracer' at 0x341b4b9d0>], out_avals=[ShapedArray(float32[3])], primitive=pjit, params={'jaxpr': { lambda ; a:f32[2,3] b:bool[3] c:f32[] d:f32[2,3] e:f32[3] f:f32[]. let\n",
      "    g:f32[2,3] = neg a\n",
      "    h:f32[3] = pjit[\n",
      "      name=maxish\n",
      "      jaxpr={ lambda ; i:f32[2,3] j:bool[3] k:f32[] l:f32[2,3] m:f32[3] n:f32[]. let\n",
      "          o:f32[2,3] = mul k i\n",
      "          p:f32[2,3] = mul o l\n",
      "          q:f32[3] = reduce_sum[axes=(0,)] p\n",
      "          r:f32[3] = neg q\n",
      "          s:f32[3] = select_n j r q\n",
      "          t:f32[3] = div s m\n",
      "          u:f32[3] = div t n\n",
      "        in (u,) }\n",
      "    ] g b c d e f\n",
      "    v:f32[3] = neg h\n",
      "  in (v,) }, 'in_shardings': (UnspecifiedValue, UnspecifiedValue, UnspecifiedValue, UnspecifiedValue, UnspecifiedValue, UnspecifiedValue), 'out_shardings': (UnspecifiedValue,), 'in_layouts': (None, None, None, None, None, None), 'out_layouts': (None,), 'resource_env': None, 'donated_invars': (False, False, False, False, False, False), 'name': 'minish', 'keep_unused': False, 'inline': False}, effects=set(), source_info=SourceInfo(traceback=<jaxlib.xla_extension.Traceback object at 0x34a89f7a0>, name_stack=NameStack(stack=(Transform(name='jvp'),))), ctx=JaxprEqnContext(compute_type=None,threefry_partitionable=False)), Traced<ConcreteArray([-1.000000e+09 -1.000000e+09 -3.660597e-01], dtype=float32)>with<JVPTrace(level=2/0)> with\n",
      "  primal = Array([-1.000000e+09, -1.000000e+09, -3.660597e-01], dtype=float32)\n",
      "  tangent = Traced<ShapedArray(float32[3])>with<JaxprTrace(level=1/0)> with\n",
      "    pval = (ShapedArray(float32[3]), None)\n",
      "    recipe = JaxprEqnRecipe(eqn_id=<object object at 0x33f115b80>, in_tracers=(Traced<ShapedArray(float32[3]):JaxprTrace(level=1/0)>,), out_tracer_refs=[<weakref at 0x341b4b6a0; to 'JaxprTracer' at 0x341b4a850>], out_avals=[ShapedArray(float32[3])], primitive=pjit, params={'jaxpr': { lambda ; a:f32[3]. let  in (a,) }, 'in_shardings': (UnspecifiedValue,), 'out_shardings': (UnspecifiedValue,), 'in_layouts': (None,), 'out_layouts': (None,), 'resource_env': None, 'donated_invars': (False,), 'name': 'add', 'keep_unused': False, 'inline': True}, effects=set(), source_info=SourceInfo(traceback=<jaxlib.xla_extension.Traceback object at 0x34a849110>, name_stack=NameStack(stack=(Transform(name='jvp'),))), ctx=JaxprEqnContext(compute_type=None,threefry_partitionable=False)))\n",
      "(Traced<ConcreteArray([-1.0000000e+09 -1.1138265e+01 -8.0458069e+00], dtype=float32)>with<JVPTrace(level=2/0)> with\n",
      "  primal = Array([-1.0000000e+09, -1.1138265e+01, -8.0458069e+00], dtype=float32)\n",
      "  tangent = Traced<ShapedArray(float32[3])>with<JaxprTrace(level=1/0)> with\n",
      "    pval = (ShapedArray(float32[3]), None)\n",
      "    recipe = JaxprEqnRecipe(eqn_id=<object object at 0x345ee8140>, in_tracers=(Traced<ShapedArray(float32[2,3]):JaxprTrace(level=1/0)>, Traced<ConcreteArray([ True  True  True], dtype=bool):JaxprTrace(level=1/0)>, Traced<ConcreteArray(0.10000000149011612, dtype=float32):JaxprTrace(level=1/0)>, Traced<ConcreteArray([[4.4376106 1.        1.       ]\n",
      " [0.        0.5797793 1.       ]], dtype=float32):JaxprTrace(level=1/0)>, Traced<ConcreteArray([4.4376106 1.5797794 2.       ], dtype=float32):JaxprTrace(level=1/0)>, Traced<ConcreteArray(0.10000000149011612, dtype=float32):JaxprTrace(level=1/0)>), out_tracer_refs=[<weakref at 0x33ee99580; to 'JaxprTracer' at 0x33ee998b0>], out_avals=[ShapedArray(float32[3])], primitive=pjit, params={'jaxpr': { lambda ; a:f32[2,3] b:bool[3] c:f32[] d:f32[2,3] e:f32[3] f:f32[]. let\n",
      "    g:f32[2,3] = neg a\n",
      "    h:f32[3] = pjit[\n",
      "      name=maxish\n",
      "      jaxpr={ lambda ; i:f32[2,3] j:bool[3] k:f32[] l:f32[2,3] m:f32[3] n:f32[]. let\n",
      "          o:f32[2,3] = mul k i\n",
      "          p:f32[2,3] = mul o l\n",
      "          q:f32[3] = reduce_sum[axes=(0,)] p\n",
      "          r:f32[3] = neg q\n",
      "          s:f32[3] = select_n j r q\n",
      "          t:f32[3] = div s m\n",
      "          u:f32[3] = div t n\n",
      "        in (u,) }\n",
      "    ] g b c d e f\n",
      "    v:f32[3] = neg h\n",
      "  in (v,) }, 'in_shardings': (UnspecifiedValue, UnspecifiedValue, UnspecifiedValue, UnspecifiedValue, UnspecifiedValue, UnspecifiedValue), 'out_shardings': (UnspecifiedValue,), 'in_layouts': (None, None, None, None, None, None), 'out_layouts': (None,), 'resource_env': None, 'donated_invars': (False, False, False, False, False, False), 'name': 'minish', 'keep_unused': False, 'inline': False}, effects=set(), source_info=SourceInfo(traceback=<jaxlib.xla_extension.Traceback object at 0x34733e1f0>, name_stack=NameStack(stack=(Transform(name='jvp'),))), ctx=JaxprEqnContext(compute_type=None,threefry_partitionable=False)), Traced<ConcreteArray([-1.0000000e+09 -3.6605969e-01  1.1143353e+00], dtype=float32)>with<JVPTrace(level=2/0)> with\n",
      "  primal = Array([-1.0000000e+09, -3.6605969e-01,  1.1143353e+00], dtype=float32)\n",
      "  tangent = Traced<ShapedArray(float32[3])>with<JaxprTrace(level=1/0)> with\n",
      "    pval = (ShapedArray(float32[3]), None)\n",
      "    recipe = JaxprEqnRecipe(eqn_id=<object object at 0x345ee8ff0>, in_tracers=(Traced<ShapedArray(float32[3]):JaxprTrace(level=1/0)>, Traced<ShapedArray(float32[3]):JaxprTrace(level=1/0)>), out_tracer_refs=[<weakref at 0x33ee99350; to 'JaxprTracer' at 0x33ee99270>], out_avals=[ShapedArray(float32[3])], primitive=pjit, params={'jaxpr': { lambda ; a:f32[3] b:f32[3]. let c:f32[3] = add a b in (c,) }, 'in_shardings': (UnspecifiedValue, UnspecifiedValue), 'out_shardings': (UnspecifiedValue,), 'in_layouts': (None, None), 'out_layouts': (None,), 'resource_env': None, 'donated_invars': (False, False), 'name': 'add', 'keep_unused': False, 'inline': True}, effects=set(), source_info=SourceInfo(traceback=<jaxlib.xla_extension.Traceback object at 0x3477b4280>, name_stack=NameStack(stack=(Transform(name='jvp'),))), ctx=JaxprEqnContext(compute_type=None,threefry_partitionable=False)))\n",
      "(Traced<ConcreteArray([-13.853245  -11.5873165  -6.4199185], dtype=float32)>with<JVPTrace(level=2/0)> with\n",
      "  primal = Array([-13.853245 , -11.5873165,  -6.4199185], dtype=float32)\n",
      "  tangent = Traced<ShapedArray(float32[3])>with<JaxprTrace(level=1/0)> with\n",
      "    pval = (ShapedArray(float32[3]), None)\n",
      "    recipe = JaxprEqnRecipe(eqn_id=<object object at 0x345ee92a0>, in_tracers=(Traced<ShapedArray(float32[2,3]):JaxprTrace(level=1/0)>, Traced<ConcreteArray([ True  True  True], dtype=bool):JaxprTrace(level=1/0)>, Traced<ConcreteArray(0.10000000149011612, dtype=float32):JaxprTrace(level=1/0)>, Traced<ConcreteArray([[0.99999994 1.         1.        ]\n",
      " [0.31192833 0.4249703  1.        ]], dtype=float32):JaxprTrace(level=1/0)>, Traced<ConcreteArray([1.3119283 1.4249703 2.       ], dtype=float32):JaxprTrace(level=1/0)>, Traced<ConcreteArray(0.10000000149011612, dtype=float32):JaxprTrace(level=1/0)>), out_tracer_refs=[<weakref at 0x33ecdaca0; to 'JaxprTracer' at 0x33ecd9d10>], out_avals=[ShapedArray(float32[3])], primitive=pjit, params={'jaxpr': { lambda ; a:f32[2,3] b:bool[3] c:f32[] d:f32[2,3] e:f32[3] f:f32[]. let\n",
      "    g:f32[2,3] = neg a\n",
      "    h:f32[3] = pjit[\n",
      "      name=maxish\n",
      "      jaxpr={ lambda ; i:f32[2,3] j:bool[3] k:f32[] l:f32[2,3] m:f32[3] n:f32[]. let\n",
      "          o:f32[2,3] = mul k i\n",
      "          p:f32[2,3] = mul o l\n",
      "          q:f32[3] = reduce_sum[axes=(0,)] p\n",
      "          r:f32[3] = neg q\n",
      "          s:f32[3] = select_n j r q\n",
      "          t:f32[3] = div s m\n",
      "          u:f32[3] = div t n\n",
      "        in (u,) }\n",
      "    ] g b c d e f\n",
      "    v:f32[3] = neg h\n",
      "  in (v,) }, 'in_shardings': (UnspecifiedValue, UnspecifiedValue, UnspecifiedValue, UnspecifiedValue, UnspecifiedValue, UnspecifiedValue), 'out_shardings': (UnspecifiedValue,), 'in_layouts': (None, None, None, None, None, None), 'out_layouts': (None,), 'resource_env': None, 'donated_invars': (False, False, False, False, False, False), 'name': 'minish', 'keep_unused': False, 'inline': False}, effects=set(), source_info=SourceInfo(traceback=<jaxlib.xla_extension.Traceback object at 0x345a67af0>, name_stack=NameStack(stack=(Transform(name='jvp'),))), ctx=JaxprEqnContext(compute_type=None,threefry_partitionable=False)), Traced<ConcreteArray([-0.3660597  1.1143353 -0.5115534], dtype=float32)>with<JVPTrace(level=2/0)> with\n",
      "  primal = Array([-0.3660597,  1.1143353, -0.5115534], dtype=float32)\n",
      "  tangent = Traced<ShapedArray(float32[3])>with<JaxprTrace(level=1/0)> with\n",
      "    pval = (ShapedArray(float32[3]), None)\n",
      "    recipe = JaxprEqnRecipe(eqn_id=<object object at 0x345ee8310>, in_tracers=(Traced<ShapedArray(float32[3]):JaxprTrace(level=1/0)>, Traced<ShapedArray(float32[3]):JaxprTrace(level=1/0)>), out_tracer_refs=[<weakref at 0x33ecda480; to 'JaxprTracer' at 0x33ecdb0c0>], out_avals=[ShapedArray(float32[3])], primitive=pjit, params={'jaxpr': { lambda ; a:f32[3] b:f32[3]. let c:f32[3] = add a b in (c,) }, 'in_shardings': (UnspecifiedValue, UnspecifiedValue), 'out_shardings': (UnspecifiedValue,), 'in_layouts': (None, None), 'out_layouts': (None,), 'resource_env': None, 'donated_invars': (False, False), 'name': 'add', 'keep_unused': False, 'inline': True}, effects=set(), source_info=SourceInfo(traceback=<jaxlib.xla_extension.Traceback object at 0x345aeb7c0>, name_stack=NameStack(stack=(Transform(name='jvp'),))), ctx=JaxprEqnContext(compute_type=None,threefry_partitionable=False)))\n"
     ]
    },
    {
     "data": {
      "text/plain": [
       "(Array([ 0.13727404,  0.08534604, -0.00567825], dtype=float32),\n",
       " Array([0.04494014, 0.15934917, 0.24514408], dtype=float32))"
      ]
     },
     "execution_count": 451,
     "metadata": {},
     "output_type": "execute_result"
    }
   ],
   "source": [
    "jax.grad(until.robustness)(signal[:3], **kwargs),\\\n",
    "    jax.grad(rec3.robustness)(signal[:3], **kwargs)"
   ]
  },
  {
   "cell_type": "code",
   "execution_count": 392,
   "metadata": {},
   "outputs": [],
   "source": [
    "approx_method = \"logsumexp\", temperature = .1"
   ]
  },
  {
   "cell_type": "code",
   "execution_count": 384,
   "metadata": {},
   "outputs": [
    {
     "data": {
      "text/plain": [
       "(Array(-0.36597282, dtype=float32),\n",
       " Array(-0.36597282, dtype=float32),\n",
       " Array(-0.36606702, dtype=float32))"
      ]
     },
     "execution_count": 384,
     "metadata": {},
     "output_type": "execute_result"
    }
   ],
   "source": [
    "\n",
    "foo(signal, approx_method=approx_method, temperature=temperature), \\\n",
    "    Until(pred > 0, pred < 0, interval=None).robustness(signal, approx_method=approx_method, temperature=temperature), \\\n",
    "        UntilRecurrent3(pred > 0, pred < 0, interval=None).robustness(signal_flip, approx_method=approx_method, temperature=temperature)\n",
    "\n"
   ]
  },
  {
   "cell_type": "code",
   "execution_count": 388,
   "metadata": {},
   "outputs": [
    {
     "data": {
      "text/plain": [
       "(Array([-9.9715149e-01,  1.2852616e-03, -1.3487851e-06, -1.4053319e-04,\n",
       "        -8.5113323e-05,  1.6848637e-05, -1.8629791e-09,  1.9984489e-12,\n",
       "        -1.1765958e-12,  1.6355593e-10], dtype=float32),\n",
       " Array([-9.9715149e-01,  1.2852616e-03, -1.3487851e-06, -1.4053320e-04,\n",
       "        -8.5113323e-05,  1.6848637e-05, -1.8629791e-09,  1.9984489e-12,\n",
       "        -1.1765958e-12,  1.6355593e-10], dtype=float32),\n",
       " Array([-9.9611372e-01,  1.0050855e-03, -1.3500086e-06, -1.4066583e-04,\n",
       "        -8.5193635e-05,  1.5187554e-05, -1.8647366e-09,  2.7083767e-12,\n",
       "        -1.1107879e-12,  3.2738981e-10], dtype=float32))"
      ]
     },
     "execution_count": 388,
     "metadata": {},
     "output_type": "execute_result"
    }
   ],
   "source": [
    "approx_method = \"logsumexp\"\n",
    "jax.grad(foo)(signal, approx_method=approx_method, temperature=temperature), \\\n",
    "    jax.grad(Until(pred > 0, pred < 0, interval=None).robustness)(signal, approx_method=approx_method, temperature=temperature), \\\n",
    "        jnp.flip(jax.grad(UntilRecurrent3(pred > 0, pred < 0, interval=None).robustness)(signal_flip, approx_method=approx_method, temperature=temperature))"
   ]
  },
  {
   "cell_type": "code",
   "execution_count": 88,
   "metadata": {},
   "outputs": [
    {
     "data": {
      "text/plain": [
       "Array(0.15078372, dtype=float32)"
      ]
     },
     "execution_count": 88,
     "metadata": {},
     "output_type": "execute_result"
    }
   ],
   "source": [
    "UntilRecurrent3(pred > 0, pred < 0, interval=None).robustness(signal_flip, approx_method=approx_method, temperature=temperature)\n"
   ]
  },
  {
   "cell_type": "code",
   "execution_count": 89,
   "metadata": {},
   "outputs": [
    {
     "data": {
      "text/plain": [
       "Array([ 3.78097028e-01,  1.11037388e-01, -3.25710773e-02,  1.04564965e-01,\n",
       "        2.04220619e-02, -3.12179327e-05,  3.38417664e-02,  1.11742159e-02,\n",
       "        1.78319607e-02, -2.81446660e-03], dtype=float32)"
      ]
     },
     "execution_count": 89,
     "metadata": {},
     "output_type": "execute_result"
    }
   ],
   "source": [
    "jax.grad(foo)(signal, approx_method=approx_method, temperature=temperature)"
   ]
  },
  {
   "cell_type": "code",
   "execution_count": null,
   "metadata": {},
   "outputs": [],
   "source": []
  },
  {
   "cell_type": "code",
   "execution_count": null,
   "metadata": {},
   "outputs": [],
   "source": []
  },
  {
   "cell_type": "code",
   "execution_count": null,
   "metadata": {},
   "outputs": [],
   "source": []
  },
  {
   "cell_type": "code",
   "execution_count": 53,
   "metadata": {},
   "outputs": [
    {
     "data": {
      "text/plain": [
       "Array([-1.04302], dtype=float32)"
      ]
     },
     "execution_count": 53,
     "metadata": {},
     "output_type": "execute_result"
    }
   ],
   "source": [
    "i = 9\n",
    "minish(s1[:i], axis=0)"
   ]
  },
  {
   "cell_type": "code",
   "execution_count": 54,
   "metadata": {},
   "outputs": [
    {
     "data": {
      "text/plain": [
       "Array([-1.04302], dtype=float32)"
      ]
     },
     "execution_count": 54,
     "metadata": {},
     "output_type": "execute_result"
    }
   ],
   "source": [
    "minish(np.concatenate([minish(s1[:i], axis=0), s2[i-1:i]]), axis=0)"
   ]
  },
  {
   "cell_type": "code",
   "execution_count": null,
   "metadata": {},
   "outputs": [],
   "source": []
  },
  {
   "cell_type": "code",
   "execution_count": null,
   "metadata": {},
   "outputs": [],
   "source": []
  },
  {
   "cell_type": "code",
   "execution_count": 260,
   "metadata": {},
   "outputs": [],
   "source": [
    "class TemporalOperator(STL_Formula):\n",
    "\n",
    "    def __init__(self, subformula, interval=None):\n",
    "        super().__init__()\n",
    "        self.subformula = subformula\n",
    "        self.interval = interval\n",
    "        \n",
    "        if self.interval is None:\n",
    "            self.hidden_dim = None\n",
    "        elif interval[1] == jnp.inf:\n",
    "            self.hidden_dim = None\n",
    "        else:\n",
    "            self.hidden_dim = interval[1] + 1\n",
    "        self.LARGE_NUMBER = 1E9\n",
    "        self.operation = None\n",
    "\n",
    "    def _get_interval_indices(self):\n",
    "        if self.interval is None:\n",
    "            start_idx = 0\n",
    "            end_idx = self.hidden_dim\n",
    "        else:\n",
    "            if self.interval[1] is jnp.inf:\n",
    "                start_idx = 0\n",
    "            else:\n",
    "                start_idx = -self.interval[1] - 1\n",
    "\n",
    "            if self.interval[0] == 0:\n",
    "                end_idx = self.hidden_dim\n",
    "            else: \n",
    "                end_idx = -self.interval[0]\n",
    "                \n",
    "        return start_idx, end_idx\n",
    "\n",
    "    def _run_cell(self, signal, padding=None, **kwargs):\n",
    "\n",
    "        hidden_state = self._initialize_hidden_state(signal, padding=padding) # [hidden_dim]\n",
    "        def f_(hidden, state):\n",
    "            hidden, o = self._cell(state, hidden, **kwargs)\n",
    "            return hidden, o\n",
    "\n",
    "        _, outputs_stack = jax.lax.scan(f_, hidden_state, signal)\n",
    "        return outputs_stack\n",
    "\n",
    "    def _initialize_hidden_state(self, signal, padding=None):\n",
    "\n",
    "        if padding == \"last\":\n",
    "            pad_value = jax.lax.stop_gradient(signal)[0]\n",
    "        elif padding == \"mean\":\n",
    "            pad_value = jax.lax.stop_gradient(signal).mean(0)\n",
    "        else:\n",
    "            pad_value = self.sign * self.LARGE_NUMBER\n",
    "            \n",
    "        n_time_steps = signal.shape[0] \n",
    "            \n",
    "        if self.hidden_dim is None:\n",
    "            self.hidden_dim = n_time_steps \n",
    "            \n",
    "        self.M = jnp.diag(jnp.ones(self.hidden_dim-1), k=1)\n",
    "        self.b = jnp.zeros(self.hidden_dim)\n",
    "        self.b = self.b.at[-1].set(1)\n",
    "        \n",
    "        h0 = jnp.ones(self.hidden_dim) * pad_value\n",
    "\n",
    "        return h0\n",
    "\n",
    "    def _cell(self, state, hidden, **kwargs):\n",
    "    \n",
    "        h_new = self.M @ hidden + self.b * state\n",
    "        start_idx, end_idx = self._get_interval_indices()        \n",
    "        output = self.operation(h_new[start_idx:end_idx], axis=0, keepdims=False, **kwargs)\n",
    "        \n",
    "        return h_new, output\n",
    "        \n",
    "\n",
    "    def robustness_trace(self, signal, padding=None, **kwargs):\n",
    "\n",
    "        trace = self.subformula(signal, **kwargs)\n",
    "        outputs = self._run_cell(trace, padding, **kwargs)\n",
    "        return outputs                  \n",
    "\n",
    "    def robustness(self, signal, **kwargs):\n",
    "        return self.__call__(signal, **kwargs)[-1]\n",
    "\n",
    "\n",
    "    def _next_function(self):\n",
    "        return [self.subformula]\n",
    "\n",
    "class AlwaysRecurrent2(TemporalOperator):\n",
    "\n",
    "    def __init__(self, subformula, interval=None):\n",
    "        super().__init__(subformula=subformula, interval=interval)\n",
    "        self.operation = minish\n",
    "        self.sign = 1.\n",
    "\n",
    "    def __str__(self):\n",
    "        return \"◻ \" + str(self._interval) + \"( \" + str(self.subformula) + \" )\"\n",
    "        \n",
    "class EventuallyRecurrent2(TemporalOperator):\n",
    "\n",
    "    def __init__(self, subformula, interval=None):\n",
    "        super().__init__(subformula=subformula, interval=interval)\n",
    "        self.operation = maxish\n",
    "        self.sign = -1.\n",
    "        \n",
    "    def __str__(self):\n",
    "        return \"♢ \" + str(self._interval) + \"( \" + str(self.subformula) + \" )\""
   ]
  },
  {
   "cell_type": "code",
   "execution_count": 261,
   "metadata": {},
   "outputs": [],
   "source": [
    "interval = None\n",
    "aa = EventuallyRecurrent2(phi, interval=interval)\n",
    "al = Eventually(phi, interval=interval)"
   ]
  },
  {
   "cell_type": "code",
   "execution_count": null,
   "metadata": {},
   "outputs": [],
   "source": []
  },
  {
   "cell_type": "code",
   "execution_count": 262,
   "metadata": {},
   "outputs": [
    {
     "data": {
      "text/plain": [
       "Array([-1.3234890e-23, -6.7762636e-21, -5.9604645e-08, -1.6155871e-27,\n",
       "       -2.7755576e-17,  0.0000000e+00, -1.4551915e-11, -8.2718061e-25,\n",
       "       -7.1054274e-15, -1.6940659e-21], dtype=float32)"
      ]
     },
     "execution_count": 262,
     "metadata": {},
     "output_type": "execute_result"
    }
   ],
   "source": [
    "jnp.flip(jax.grad(aa.robustness)(signal_flip, approx_method=\"logsumexp\", temperature=temperature)) - jax.grad(al.robustness)(signal, approx_method=\"logsumexp\", temperature=temperature)"
   ]
  },
  {
   "cell_type": "code",
   "execution_count": 263,
   "metadata": {},
   "outputs": [
    {
     "data": {
      "text/plain": [
       "Array([0., 0., 0., 0., 0., 0., 0., 0., 0., 0.], dtype=float32)"
      ]
     },
     "execution_count": 263,
     "metadata": {},
     "output_type": "execute_result"
    }
   ],
   "source": [
    "jnp.flip(aa(signal_flip, approx_method=\"logsumexp\", temperature=temperature)) - al(signal, approx_method=\"logsumexp\", temperature=temperature)"
   ]
  },
  {
   "cell_type": "code",
   "execution_count": null,
   "metadata": {},
   "outputs": [],
   "source": []
  }
 ],
 "metadata": {
  "kernelspec": {
   "display_name": "test",
   "language": "python",
   "name": "python3"
  },
  "language_info": {
   "codemirror_mode": {
    "name": "ipython",
    "version": 3
   },
   "file_extension": ".py",
   "mimetype": "text/x-python",
   "name": "python",
   "nbconvert_exporter": "python",
   "pygments_lexer": "ipython3",
   "version": "3.12.4"
  }
 },
 "nbformat": 4,
 "nbformat_minor": 2
}
