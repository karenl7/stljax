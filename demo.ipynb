{
 "cells": [
  {
   "cell_type": "code",
   "execution_count": 1,
   "metadata": {},
   "outputs": [],
   "source": [
    "import jax\n",
    "import jax.numpy as jnp\n",
    "import numpy as np\n",
    "import matplotlib.pyplot as plt\n",
    "from stljax.formula import *\n",
    "from stljax.viz import *\n",
    "\n",
    "import functools"
   ]
  },
  {
   "cell_type": "markdown",
   "metadata": {},
   "source": [
    "## NOTE\n",
    "If using Expressions to define formulas, `stljax` expects input signals to be of size `[time_dim]`.\n",
    "If using Predicates to define formulas, `stljax` expects input signals to be of size `[time_dim, state_dim]` where `state_dim` is the expected input size of your predicate function.\n",
    "\n"
   ]
  },
  {
   "cell_type": "code",
   "execution_count": 2,
   "metadata": {},
   "outputs": [],
   "source": [
    "def compute_distance_to_origin(states):\n",
    "    return jnp.linalg.norm(states[...,:2], axis=-1, keepdims=False)"
   ]
  },
  {
   "cell_type": "code",
   "execution_count": 3,
   "metadata": {},
   "outputs": [
    {
     "data": {
      "text/plain": [
       "Array([1.4142135, 1.4142135, 1.4142135, 1.4142135, 1.4142135, 1.4142135,\n",
       "       1.4142135, 1.4142135, 1.4142135, 1.4142135], dtype=float32)"
      ]
     },
     "execution_count": 3,
     "metadata": {},
     "output_type": "execute_result"
    }
   ],
   "source": [
    "T = 10\n",
    "compute_distance_to_origin(jnp.ones([T, 2]))"
   ]
  },
  {
   "cell_type": "markdown",
   "metadata": {},
   "source": [
    "## Using Expressions\n",
    "Expressions are placeholders for input signals. Specifically, it is assuming the signal is already a 1D array, such as the output of a predicate function. \n",
    "\n",
    "This is useful if you have signals from predicates computed already. \n",
    "\n",
    "In general, this is useful for readability and visualization."
   ]
  },
  {
   "cell_type": "code",
   "execution_count": 4,
   "metadata": {},
   "outputs": [
    {
     "ename": "AssertionError",
     "evalue": "Input Expression does not have numerical values",
     "output_type": "error",
     "traceback": [
      "\u001b[0;31m---------------------------------------------------------------------------\u001b[0m",
      "\u001b[0;31mAssertionError\u001b[0m                            Traceback (most recent call last)",
      "Cell \u001b[0;32mIn[4], line 5\u001b[0m\n\u001b[1;32m      1\u001b[0m distance_to_origin_exp \u001b[38;5;241m=\u001b[39m Expression(\u001b[38;5;124m\"\u001b[39m\u001b[38;5;124mmagnitude\u001b[39m\u001b[38;5;124m\"\u001b[39m, value\u001b[38;5;241m=\u001b[39m\u001b[38;5;28;01mNone\u001b[39;00m) \u001b[38;5;66;03m# can define an Expression without setting values for the expression right now\u001b[39;00m\n\u001b[1;32m      2\u001b[0m formula_exp \u001b[38;5;241m=\u001b[39m Eventually(distance_to_origin_exp \u001b[38;5;241m<\u001b[39m \u001b[38;5;241m0.5\u001b[39m) \u001b[38;5;66;03m# can define an STL formula given an expression, again, the value of the expression does not need to be set yet\u001b[39;00m\n\u001b[0;32m----> 5\u001b[0m \u001b[43mformula_exp\u001b[49m\u001b[43m(\u001b[49m\u001b[43mdistance_to_origin_exp\u001b[49m\u001b[43m)\u001b[49m \u001b[38;5;66;03m# <---- this will throw an error since the expression does not have values set yet\u001b[39;00m\n",
      "File \u001b[0;32m~/repos/stljax/stljax/formula.py:79\u001b[0m, in \u001b[0;36mSTL_Formula.__call__\u001b[0;34m(self, signal, **kwargs)\u001b[0m\n\u001b[1;32m     72\u001b[0m \u001b[38;5;28;01mdef\u001b[39;00m \u001b[38;5;21m__call__\u001b[39m(\u001b[38;5;28mself\u001b[39m, signal, \u001b[38;5;241m*\u001b[39m\u001b[38;5;241m*\u001b[39mkwargs):\n\u001b[1;32m     73\u001b[0m \u001b[38;5;250m    \u001b[39m\u001b[38;5;124;03m\"\"\"\u001b[39;00m\n\u001b[1;32m     74\u001b[0m \u001b[38;5;124;03m    Evaluates the robustness_trace given the input. The input is converted to the numerical value first.\u001b[39;00m\n\u001b[1;32m     75\u001b[0m \n\u001b[1;32m     76\u001b[0m \u001b[38;5;124;03m    See  STL_Formula.robustness_trace\u001b[39;00m\n\u001b[1;32m     77\u001b[0m \u001b[38;5;124;03m    \"\"\"\u001b[39;00m\n\u001b[0;32m---> 79\u001b[0m     inputs \u001b[38;5;241m=\u001b[39m \u001b[43mconvert_to_input_values\u001b[49m\u001b[43m(\u001b[49m\u001b[43msignal\u001b[49m\u001b[43m)\u001b[49m\n\u001b[1;32m     80\u001b[0m     \u001b[38;5;28;01mreturn\u001b[39;00m \u001b[38;5;28mself\u001b[39m\u001b[38;5;241m.\u001b[39mrobustness_trace(inputs, \u001b[38;5;241m*\u001b[39m\u001b[38;5;241m*\u001b[39mkwargs)\n",
      "File \u001b[0;32m~/repos/stljax/stljax/formula.py:866\u001b[0m, in \u001b[0;36mconvert_to_input_values\u001b[0;34m(inputs)\u001b[0m\n\u001b[1;32m    864\u001b[0m \u001b[38;5;28;01mif\u001b[39;00m \u001b[38;5;129;01mnot\u001b[39;00m \u001b[38;5;28misinstance\u001b[39m(inputs, \u001b[38;5;28mtuple\u001b[39m):\n\u001b[1;32m    865\u001b[0m     \u001b[38;5;28;01mif\u001b[39;00m \u001b[38;5;28misinstance\u001b[39m(inputs, Expression):\n\u001b[0;32m--> 866\u001b[0m         \u001b[38;5;28;01massert\u001b[39;00m inputs\u001b[38;5;241m.\u001b[39mvalue \u001b[38;5;129;01mis\u001b[39;00m \u001b[38;5;129;01mnot\u001b[39;00m \u001b[38;5;28;01mNone\u001b[39;00m, \u001b[38;5;124m\"\u001b[39m\u001b[38;5;124mInput Expression does not have numerical values\u001b[39m\u001b[38;5;124m\"\u001b[39m\n\u001b[1;32m    867\u001b[0m         \u001b[38;5;66;03m# if Expression is not time reversed\u001b[39;00m\n\u001b[1;32m    868\u001b[0m         \u001b[38;5;28;01mreturn\u001b[39;00m inputs\u001b[38;5;241m.\u001b[39mvalue\n",
      "\u001b[0;31mAssertionError\u001b[0m: Input Expression does not have numerical values"
     ]
    }
   ],
   "source": [
    "distance_to_origin_exp = Expression(\"magnitude\", value=None) # can define an Expression without setting values for the expression right now\n",
    "formula_exp = Eventually(distance_to_origin_exp < 0.5) # can define an STL formula given an expression, again, the value of the expression does not need to be set yet\n",
    "\n",
    "\n",
    "formula_exp(distance_to_origin_exp) # <---- this will throw an error since the expression does not have values set yet\n",
    "\n"
   ]
  },
  {
   "cell_type": "code",
   "execution_count": 5,
   "metadata": {},
   "outputs": [
    {
     "data": {
      "text/plain": [
       "Array([ 0.24982172,  0.24982172,  0.24982172,  0.24982172, -0.9981775 ],      dtype=float32)"
      ]
     },
     "execution_count": 5,
     "metadata": {},
     "output_type": "execute_result"
    }
   ],
   "source": [
    "# so let's go ahead and set a value for the expression\n",
    "T = 5\n",
    "states = jnp.array(np.random.randn(T, 2))\n",
    "states_norm = compute_distance_to_origin(states)   # compute distance to origin\n",
    "\n",
    "distance_to_origin_exp.set_value(states_norm)   # set value for Expression\n",
    "\n",
    "# compute robustness trace\n",
    "formula_exp(distance_to_origin_exp) # <---- this will no longer throw an error since the expression has a value set\n",
    "\n",
    "# alternatively, we can directly plug any jnp.array and evaluate the robustness without \n",
    "states2 = jnp.array(np.random.randn(T, 2))\n",
    "states_norm2 = compute_distance_to_origin(states2)   # compute distance to origin\n",
    "formula_exp(states_norm2) \n",
    "\n"
   ]
  },
  {
   "cell_type": "markdown",
   "metadata": {},
   "source": [
    "We can compute the robustness value (instead of trace) and take the derivative"
   ]
  },
  {
   "cell_type": "code",
   "execution_count": 6,
   "metadata": {},
   "outputs": [
    {
     "name": "stdout",
     "output_type": "stream",
     "text": [
      "Robustness value: -0.041\n",
      "\n",
      "Gradient of robustness value w.r.t. input:\n",
      " [-0. -0. -1. -0. -0.]\n"
     ]
    }
   ],
   "source": [
    "robustness = formula_exp.robustness(states_norm) \n",
    "print(f\"Robustness value: {robustness:.3f}\\n\")\n",
    "\n",
    "gradient = jax.grad(formula_exp.robustness)(states_norm) \n",
    "print(f\"Gradient of robustness value w.r.t. input:\\n {gradient}\")\n"
   ]
  },
  {
   "cell_type": "markdown",
   "metadata": {},
   "source": [
    "We can apply a smooth max/min approximation by selecting a `approx_method` and `temperature`.\n",
    "The default `approx_method` is `true`.\n"
   ]
  },
  {
   "cell_type": "code",
   "execution_count": 7,
   "metadata": {},
   "outputs": [
    {
     "name": "stdout",
     "output_type": "stream",
     "text": [
      "Robustness value: 1.030\n",
      "\n",
      "Gradient of robustness value w.r.t. input:\n",
      " [-0.09700805 -0.2143781  -0.34265578 -0.23554076 -0.1104174 ]\n"
     ]
    }
   ],
   "source": [
    "approx_method = \"logsumexp\"  # or \"softmax\"\n",
    "temperature = 1. # needs to be > 0\n",
    "\n",
    "robustness = formula_exp.robustness(states_norm, approx_method=approx_method, temperature=temperature) \n",
    "print(f\"Robustness value: {robustness:.3f}\\n\")\n",
    "\n",
    "gradient = jax.grad(formula_exp.robustness)(states_norm, approx_method=approx_method, temperature=temperature) \n",
    "print(f\"Gradient of robustness value w.r.t. input:\\n {gradient}\") # <----- gradients are spread across different values"
   ]
  },
  {
   "cell_type": "markdown",
   "metadata": {},
   "source": [
    "For formulas that are defined with two different Expressions, we need to be careful about the signals we are feeding in."
   ]
  },
  {
   "cell_type": "code",
   "execution_count": 8,
   "metadata": {},
   "outputs": [
    {
     "data": {
      "text/plain": [
       "Array([-1.8956004 , -1.1781825 , -0.04106313, -0.41590554, -1.1735218 ],      dtype=float32)"
      ]
     },
     "execution_count": 8,
     "metadata": {},
     "output_type": "execute_result"
    }
   ],
   "source": [
    "# if both subformulas use the same signal, then we can do this\n",
    "phi = (distance_to_origin_exp > 0) & (distance_to_origin_exp < 0.5)  \n",
    "phi(states_norm)\n",
    "\n",
    "\n",
    "# if the formula depends on two different signals, then we need to provide the two signals as tuple\n",
    "distance_to_origin_exp = Expression(\"magnitude\", value=None)\n",
    "speed_exp = Expression(\"speed\", value=None)\n",
    "\n",
    "phi = (distance_to_origin_exp > 0) & (speed_exp < 0.5)  \n",
    "\n",
    "phi(states_norm) # <--- Will give WRONG ANSWER\n",
    "\n",
    "\n",
    "speed = jnp.array(np.random.randn(T))\n",
    "input_correct_order = (states_norm, speed)\n",
    "input_wrong_order = (speed, states_norm)\n",
    "phi(input_correct_order) # <--- Will give desired answer\n",
    "phi(input_wrong_order) # <--- Will give WRONG ANSWER since the ordering of the input does not correspond to how phi is defined\n",
    "\n",
    "\n"
   ]
  },
  {
   "cell_type": "markdown",
   "metadata": {},
   "source": [
    "## Using Predicates\n",
    "Predicates are the functions that an N-D signal is passed through and its outputs are then passed through each operation of the STL formula.\n",
    "We can construct an STL formula by specifying the predicate functions and the connectives and temporal operations.\n"
   ]
  },
  {
   "cell_type": "code",
   "execution_count": 9,
   "metadata": {},
   "outputs": [
    {
     "data": {
      "text/plain": [
       "Array([ True,  True,  True,  True,  True], dtype=bool)"
      ]
     },
     "execution_count": 9,
     "metadata": {},
     "output_type": "execute_result"
    }
   ],
   "source": [
    "distance_to_origin_pred = Predicate(\"magnitude\", predicate_function=compute_distance_to_origin) # define a predicate function with a name and the function\n",
    "formula_pred = Eventually(distance_to_origin_pred < 0.5) # define the STL formula\n",
    "\n",
    "# so let's go ahead and set a value for the input N-D array which will be the input into the predicate function.\n",
    "T = 5\n",
    "states = jnp.array(np.random.randn(T, 2))  # 2D signal\n",
    "output_from_using_predicate = formula_pred(states) # compute distance to origin INSIDE \n",
    "\n",
    "\n",
    "# NOTE: this is equivalent to the following with expressions\n",
    "states_norm = compute_distance_to_origin(states)   # computes distance to origin OUTSIDE \n",
    "output_from_using_expression = formula_exp(states_norm) \n",
    "\n",
    "\n",
    "# check if we get the same answer\n",
    "jnp.isclose(output_from_using_predicate, output_from_using_expression)"
   ]
  },
  {
   "cell_type": "markdown",
   "metadata": {},
   "source": [
    "Similarly, we can compute the robustness value (instead of trace) and take the derivative. "
   ]
  },
  {
   "cell_type": "code",
   "execution_count": 10,
   "metadata": {},
   "outputs": [
    {
     "name": "stdout",
     "output_type": "stream",
     "text": [
      "Robustness value: 0.951\n",
      "\n",
      "Gradient of robustness value w.r.t. input:\n",
      " [[-0.05231676  0.04973718]\n",
      " [-0.02268155 -0.20005907]\n",
      " [ 0.23647855  0.29368952]\n",
      " [ 0.21631472 -0.10630771]\n",
      " [-0.0618272   0.08902159]]\n"
     ]
    }
   ],
   "source": [
    "approx_method = \"logsumexp\"  # or \"softmax\"\n",
    "temperature = 1. # needs to be > 0\n",
    "\n",
    "robustness = formula_pred.robustness(states, approx_method=approx_method, temperature=temperature) \n",
    "print(f\"Robustness value: {robustness:.3f}\\n\")\n",
    "\n",
    "gradient = jax.grad(formula_pred.robustness)(states, approx_method=approx_method, temperature=temperature) \n",
    "print(f\"Gradient of robustness value w.r.t. input:\\n {gradient}\") # <----- gradients are spread across different values"
   ]
  },
  {
   "cell_type": "markdown",
   "metadata": {},
   "source": [
    "Note that when taken gradients with formulas defined with predicates, the input is the N-D signal which is passed into the predicate function and other robustness formulas. That is to say, the gradient will be influenced by the choice of the predicate. \n",
    "\n",
    "To get the same gradient output when using Expressions, we need to do the following:"
   ]
  },
  {
   "cell_type": "code",
   "execution_count": 11,
   "metadata": {},
   "outputs": [
    {
     "data": {
      "text/plain": [
       "Array([[-0.05231676,  0.04973718],\n",
       "       [-0.02268155, -0.20005907],\n",
       "       [ 0.23647855,  0.29368952],\n",
       "       [ 0.21631472, -0.10630771],\n",
       "       [-0.0618272 ,  0.08902159]], dtype=float32)"
      ]
     },
     "execution_count": 11,
     "metadata": {},
     "output_type": "execute_result"
    }
   ],
   "source": [
    "def foo(states):\n",
    "    states_norm = compute_distance_to_origin(states)   # compute distance to origin\n",
    "    return formula_exp.robustness(states_norm, approx_method=approx_method, temperature=temperature) \n",
    "\n",
    "jax.grad(foo)(states)"
   ]
  }
 ],
 "metadata": {
  "kernelspec": {
   "display_name": "test",
   "language": "python",
   "name": "python3"
  },
  "language_info": {
   "codemirror_mode": {
    "name": "ipython",
    "version": 3
   },
   "file_extension": ".py",
   "mimetype": "text/x-python",
   "name": "python",
   "nbconvert_exporter": "python",
   "pygments_lexer": "ipython3",
   "version": "3.12.4"
  }
 },
 "nbformat": 4,
 "nbformat_minor": 2
}
