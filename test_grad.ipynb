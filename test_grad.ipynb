{
 "cells": [
  {
   "cell_type": "code",
   "execution_count": null,
   "metadata": {},
   "outputs": [],
   "source": [
    "# analyzing gradients\n",
    "\n",
    "pred = Predicate('x', lambda x: x)\n",
    "rec = EventuallyRecurrent(pred > 0.)\n",
    "ev = Eventually(pred > 0.)\n"
   ]
  },
  {
   "cell_type": "code",
   "execution_count": null,
   "metadata": {},
   "outputs": [],
   "source": [
    "T = 10\n",
    "signal = jnp.arange(T) * 1.\n",
    "# signal = jnp.array(np.random.randn(T))\n",
    "signal_flip = jnp.flip(signal)\n"
   ]
  },
  {
   "cell_type": "code",
   "execution_count": null,
   "metadata": {},
   "outputs": [],
   "source": [
    "approx_method = \"logsumexp\"\n",
    "temperature = 1.\n",
    "axis = 0\n",
    "keepdims = True\n",
    "\n",
    "\n",
    "\n",
    "def test_grad(signal, temperature, approx_method):\n",
    "    signal_flip = jnp.flip(signal)\n",
    "    m = lambda x: maxish(x, axis=axis, keepdims=keepdims, approx_method=approx_method, temperature=temperature)\n",
    "    # s0 = jnp.array([signal[0]])\n",
    "    s0 = jnp.zeros(0)\n",
    "    for s in signal_flip:\n",
    "        s0 = m(jnp.concat([s0, jnp.array([s])]))\n",
    "    return s0.squeeze() \n",
    "\n",
    "\n",
    "mask_grads = jax.grad(ev.robustness)(signal, approx_method=approx_method, temperature=temperature)\n",
    "rec_grads = jax.grad(test_grad)(signal, temperature, approx_method)\n",
    "rec_grads = jax.grad(rec.robustness)(signal_flip, approx_method=approx_method, temperature=temperature)\n"
   ]
  },
  {
   "cell_type": "code",
   "execution_count": null,
   "metadata": {},
   "outputs": [],
   "source": [
    "def rec_robustness(signal, approx_method, temperature, padding=1E9):\n",
    "    signal_flip = jnp.flip(signal)\n",
    "    return rec(signal_flip, approx_method=approx_method, temperature=temperature, padding=padding)[-1]"
   ]
  },
  {
   "cell_type": "code",
   "execution_count": null,
   "metadata": {},
   "outputs": [],
   "source": [
    "def plot_gradients(temperature, approx_method):\n",
    "    mask_grads = jax.grad(ev.robustness)(signal, approx_method=approx_method, temperature=temperature)\n",
    "    # rec_grads = jnp.flip(jax.grad(rob, 1)(rec, signal_flip, approx_method=approx_method, temperature=temperature))\n",
    "    rec_grads = jax.grad(test_grad)(signal, temperature, approx_method)\n",
    "    # rec_grads = jax.grad(rec_robustness)(signal, approx_method=approx_method, temperature=temperature, padding=1E9)\n",
    "    plt.bar(jnp.arange(T)-0.125, mask_grads, label=\"Mask\", width=0.22, alpha=0.5)\n",
    "    plt.bar(jnp.arange(T)+0.124, rec_grads, label=\"Rec.\", width=0.22, alpha=0.5)\n",
    "    height = max(mask_grads.max(), rec_grads.max())\n",
    "    plt.vlines(jnp.argmax(signal), 0, height, zorder=-5, linestyle='--', label='True max')\n",
    "    # plt.ylim([-0.2, 1.2])\n",
    "    plt.grid()\n",
    "    plt.title(\"$\\\\tau$ = %.2f\"%temp)\n",
    "    if i in [2, 3]:\n",
    "        plt.xlabel(\"Timestep\",labelpad=-2)\n",
    "    if i in [0,2]:\n",
    "        plt.ylabel(\"Gradient\",labelpad=-2)"
   ]
  },
  {
   "cell_type": "code",
   "execution_count": null,
   "metadata": {},
   "outputs": [],
   "source": [
    "plt.figure(figsize=(5,3))\n",
    "for (i, temp) in enumerate([0.1, 1., 2., 10.]):\n",
    "    plt.subplot(2,2,i+1)\n",
    "    plot_gradients(temp, approx_method)\n",
    "\n",
    "plt.legend(loc=\"upper left\")\n",
    "plt.tight_layout()\n",
    "# plt.savefig(\"figs/softmax_gradients.png\", dpi=200, transparent=True)"
   ]
  },
  {
   "cell_type": "code",
   "execution_count": null,
   "metadata": {},
   "outputs": [],
   "source": [
    "temp_slider = widgets.FloatSlider(value=1., min=0.1, max=10., step=0.1, description='temperature:')\n",
    "approx_method_slider = widgets.Dropdown(\n",
    "    options=['true', \"logsumexp\", \"softmax\"],\n",
    "    value='true',\n",
    "    description='approx method:',\n",
    "    disabled=False,\n",
    ")\n",
    "interact(plot_gradients, temperature=temp_slider, approx_method=approx_method_slider)\n"
   ]
  }
 ],
 "metadata": {
  "language_info": {
   "name": "python"
  }
 },
 "nbformat": 4,
 "nbformat_minor": 2
}
