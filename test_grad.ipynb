{
 "cells": [
  {
   "cell_type": "code",
   "execution_count": 1,
   "metadata": {},
   "outputs": [],
   "source": [
    "%load_ext autoreload\n",
    "%autoreload 2"
   ]
  },
  {
   "cell_type": "code",
   "execution_count": 2,
   "metadata": {},
   "outputs": [
    {
     "name": "stderr",
     "output_type": "stream",
     "text": [
      "/Users/karen/venvs/test/lib/python3.12/site-packages/equinox/internal/_noinline.py:379: DeprecationWarning: jax.core.pp_eqn_rules is deprecated.\n",
      "  jax.core.pp_eqn_rules[noinline_p] = _noinline_pretty_print\n"
     ]
    }
   ],
   "source": [
    "\n",
    "import jax\n",
    "import jax.numpy as jnp\n",
    "import numpy as np\n",
    "from stljax.formula import *\n",
    "from stljax.viz import *\n",
    "import matplotlib.pyplot as plt\n",
    "import equinox as eqx\n",
    "from typing import Callable\n",
    "from jax import random\n",
    "\n",
    "from ipywidgets import interact, interactive, fixed, interact_manual\n",
    "import ipywidgets as widgets\n",
    "\n",
    "from stljax.utils import smooth_mask, anneal\n",
    "\n",
    "\n",
    "from matplotlib import rc\n",
    "rc('font',**{'family':'serif','serif':['Palatino']})\n",
    "rc('text', usetex=True)"
   ]
  },
  {
   "cell_type": "code",
   "execution_count": 3,
   "metadata": {},
   "outputs": [],
   "source": [
    "def test_grad(signal, temperature, approx_method):\n",
    "    signal_flip = jnp.flip(signal)\n",
    "    m = lambda x: maxish(x, axis=axis, keepdims=keepdims, approx_method=approx_method, temperature=temperature)\n",
    "    # s0 = jnp.array([signal[0]])\n",
    "    s0 = jnp.zeros(0)\n",
    "    for s in signal_flip:\n",
    "        s0 = m(jnp.concat([s0, jnp.array([s])]))\n",
    "    return s0.squeeze() "
   ]
  },
  {
   "cell_type": "code",
   "execution_count": 32,
   "metadata": {},
   "outputs": [],
   "source": []
  },
  {
   "cell_type": "code",
   "execution_count": 28,
   "metadata": {},
   "outputs": [],
   "source": [
    "# analyzing gradients\n",
    "interval = None\n",
    "pred = Predicate('x', lambda x: x)\n",
    "rec = EventuallyRecurrent((pred > 0.), interval=interval)\n",
    "ev = Eventually((pred > 0.), interval=interval)\n"
   ]
  },
  {
   "cell_type": "code",
   "execution_count": 29,
   "metadata": {},
   "outputs": [],
   "source": [
    "T = 10\n",
    "signal = jnp.arange(T) * 1.\n",
    "signal_flip = jnp.flip(signal)\n"
   ]
  },
  {
   "cell_type": "code",
   "execution_count": 30,
   "metadata": {},
   "outputs": [],
   "source": [
    "approx_method = \"logsumexp\"\n",
    "temperature = 0.1\n",
    "axis = 0\n",
    "keepdims = True\n",
    "large_number = None"
   ]
  },
  {
   "cell_type": "code",
   "execution_count": 31,
   "metadata": {},
   "outputs": [
    {
     "data": {
      "text/plain": [
       "(Array(0.9946346, dtype=float32), Array(0.9946358, dtype=float32))"
      ]
     },
     "execution_count": 31,
     "metadata": {},
     "output_type": "execute_result"
    }
   ],
   "source": [
    "interval = [5, jnp.inf]\n",
    "until_rec = UntilRecurrent(pred > -5., pred < 6, interval=interval)\n",
    "until_mask = Until(pred > -5., pred < 6, interval=interval)\n",
    "\n",
    "until_mask.robustness(signal, padding=large_number, approx_method=approx_method, temperature=temperature), until_rec.robustness(signal_flip, padding=large_number, approx_method=approx_method, temperature=temperature)\n"
   ]
  },
  {
   "cell_type": "code",
   "execution_count": 32,
   "metadata": {},
   "outputs": [
    {
     "data": {
      "text/plain": [
       "(Array([ 0.13611487,  0.12316183,  0.11144143,  0.10083637,  0.09124053,\n",
       "         0.02524319,  0.00250334, -0.0138594 , -0.02578233, -0.03452376],      dtype=float32),\n",
       " Array([ 0.13611487,  0.12316182,  0.11144143,  0.10083638,  0.09124053,\n",
       "         0.02524318,  0.00250334, -0.01385939, -0.02578233, -0.03452376],      dtype=float32))"
      ]
     },
     "execution_count": 32,
     "metadata": {},
     "output_type": "execute_result"
    }
   ],
   "source": [
    "\n",
    "mask_grads = jax.grad(until_mask.robustness)(signal, approx_method=approx_method, temperature=temperature)\n",
    "# test_grads = jax.grad(test_grad)(signal, temperature, approx_method)\n",
    "rec_grads = jnp.flip(jax.grad(until_rec.robustness)(signal_flip, approx_method=approx_method, temperature=temperature))\n",
    "\n",
    "mask_grads, rec_grads\n"
   ]
  },
  {
   "cell_type": "code",
   "execution_count": 33,
   "metadata": {},
   "outputs": [
    {
     "data": {
      "text/plain": [
       "(Array([0.06120703, 0.06764423, 0.07475843, 0.08262085, 0.09131017,\n",
       "        0.10091334, 0.11152648, 0.12325581, 0.13621874, 0.150545  ],      dtype=float32),\n",
       " Array([0.06120701, 0.06764421, 0.07475844, 0.08262084, 0.09131014,\n",
       "        0.10091332, 0.11152645, 0.1232558 , 0.13621873, 0.15054499],      dtype=float32, weak_type=True))"
      ]
     },
     "execution_count": 33,
     "metadata": {},
     "output_type": "execute_result"
    }
   ],
   "source": [
    "\n",
    "mask_grads = jax.grad(ev.robustness)(signal, padding=large_number, approx_method=approx_method, temperature=temperature)\n",
    "# test_grads = jax.grad(test_grad)(signal, temperature, approx_method)\n",
    "rec_grads = jnp.flip(jax.grad(rec.robustness)(signal_flip, padding=large_number, approx_method=approx_method, temperature=temperature))\n",
    "\n",
    "mask_grads, rec_grads\n"
   ]
  },
  {
   "cell_type": "code",
   "execution_count": 37,
   "metadata": {},
   "outputs": [],
   "source": [
    "# analyzing gradients\n",
    "interval = [4, 8]\n",
    "pred = Predicate('x', lambda x: x)\n",
    "phi = pred > -5.\n",
    "psi = pred < 6.\n",
    "# rec = EventuallyRecurrent(AlwaysRecurrent(phi), interval=interval)\n",
    "# mask = Eventually(Always(phi), interval=interval)\n",
    "\n",
    "rec = UntilRecurrent(AlwaysRecurrent(phi), EventuallyRecurrent(psi), interval=interval)\n",
    "mask = Until(Always(phi), Eventually(psi), interval=interval)\n"
   ]
  },
  {
   "cell_type": "code",
   "execution_count": 38,
   "metadata": {},
   "outputs": [],
   "source": [
    "T = 10\n",
    "signal = jnp.arange(T) * 1.\n",
    "signal_flip = jnp.flip(signal)\n"
   ]
  },
  {
   "cell_type": "code",
   "execution_count": 39,
   "metadata": {},
   "outputs": [],
   "source": [
    "temperature = 10.\n",
    "approx_method = \"logsumexp\""
   ]
  },
  {
   "cell_type": "code",
   "execution_count": 40,
   "metadata": {},
   "outputs": [
    {
     "data": {
      "text/plain": [
       "Array([0., 0., 0., 0., 0., 0., 0., 0., 0., 0.], dtype=float32)"
      ]
     },
     "execution_count": 40,
     "metadata": {},
     "output_type": "execute_result"
    }
   ],
   "source": [
    "mask(signal, approx_method=approx_method, temperature=temperature) - jnp.flip(rec(signal_flip, approx_method=approx_method, temperature=temperature))"
   ]
  },
  {
   "cell_type": "code",
   "execution_count": 41,
   "metadata": {},
   "outputs": [
    {
     "data": {
      "text/plain": [
       "Array([ 9.3576297e-14,  8.4967149e-18,  5.7862536e-22,  3.5026071e-26,\n",
       "       -9.9990928e-01, -9.0791647e-05, -6.1829017e-09, -3.7427109e-13,\n",
       "       -2.1239851e-17, -9.6428782e-22], dtype=float32)"
      ]
     },
     "execution_count": 41,
     "metadata": {},
     "output_type": "execute_result"
    }
   ],
   "source": [
    "jax.grad(mask.robustness)(signal, approx_method=approx_method, temperature=temperature) "
   ]
  },
  {
   "cell_type": "code",
   "execution_count": 42,
   "metadata": {},
   "outputs": [
    {
     "data": {
      "text/plain": [
       "Array([ 9.3576344e-14,  8.4967182e-18,  5.7862556e-22,  3.5026074e-26,\n",
       "       -9.9990928e-01, -9.0791655e-05, -6.1829040e-09, -3.7427131e-13,\n",
       "       -2.1239867e-17, -9.6428853e-22], dtype=float32, weak_type=True)"
      ]
     },
     "execution_count": 42,
     "metadata": {},
     "output_type": "execute_result"
    }
   ],
   "source": [
    "jnp.flip(jax.grad(rec.robustness)(signal_flip, approx_method=approx_method, temperature=temperature))"
   ]
  },
  {
   "cell_type": "code",
   "execution_count": 18,
   "metadata": {},
   "outputs": [],
   "source": [
    "def plot_gradients(temperature, approx_method):\n",
    "    mask_grads = jax.grad(ev.robustness)(signal, padding=large_number, approx_method=approx_method, temperature=temperature)\n",
    "    rec_grads = jnp.flip(jax.grad(rec.robustness)(signal_flip, padding=large_number, approx_method=approx_method, temperature=temperature))\n",
    "    # rec_grads = jax.grad(test_grad)(signal, temperature, approx_method)\n",
    "    # rec_grads = jax.grad(rec_robustness)(signal, approx_method=approx_method, temperature=temperature, padding=1E9)\n",
    "    plt.bar(jnp.arange(T)-0.125, mask_grads, label=\"Mask\", width=0.22, alpha=0.5)\n",
    "    plt.bar(jnp.arange(T)+0.124, rec_grads, label=\"Rec.\", width=0.22, alpha=0.5)\n",
    "    height = max(mask_grads.max(), rec_grads.max())\n",
    "    plt.vlines(jnp.argmax(signal), 0, height, zorder=-5, linestyle='--', label='True max')\n",
    "    # plt.ylim([-0.2, 1.2])\n",
    "    plt.grid()\n",
    "    plt.title(\"$\\\\tau$ = %.2f\"%temp)\n"
   ]
  },
  {
   "cell_type": "code",
   "execution_count": 19,
   "metadata": {},
   "outputs": [
    {
     "data": {
      "image/png": "[encoded data removed]",
      "text/plain": [
       "<Figure size 500x300 with 4 Axes>"
      ]
     },
     "metadata": {},
     "output_type": "display_data"
    }
   ],
   "source": [
    "plt.figure(figsize=(5,3))\n",
    "for (i, temp) in enumerate([0.1, 1., 2., 10.]):\n",
    "    plt.subplot(2,2,i+1)\n",
    "    plot_gradients(temp, approx_method)\n",
    "\n",
    "plt.legend(loc=\"upper left\")\n",
    "plt.tight_layout()\n",
    "# plt.savefig(\"figs/softmax_gradients.png\", dpi=200, transparent=True)"
   ]
  },
  {
   "cell_type": "code",
   "execution_count": 20,
   "metadata": {},
   "outputs": [
    {
     "name": "stderr",
     "output_type": "stream",
     "text": [
      "/Users/karen/venvs/test/lib/python3.12/site-packages/ipywidgets/widgets/interaction.py:43: DeprecationWarning: `ipykernel.pylab.backend_inline` is deprecated, directly use `matplotlib_inline.backend_inline`\n",
      "  from ipykernel.pylab.backend_inline import flush_figures\n"
     ]
    },
    {
     "data": {
      "application/vnd.jupyter.widget-view+json": {
       "model_id": "11fe6c4e63b4466ba2fdf400d70ccac9",
       "version_major": 2,
       "version_minor": 0
      },
      "text/plain": [
       "interactive(children=(FloatSlider(value=1.0, description='temperature:', max=5.0, min=0.1), Dropdown(descripti…"
      ]
     },
     "metadata": {},
     "output_type": "display_data"
    },
    {
     "data": {
      "text/plain": [
       "<function __main__.plot_gradients(temperature, approx_method)>"
      ]
     },
     "execution_count": 20,
     "metadata": {},
     "output_type": "execute_result"
    }
   ],
   "source": [
    "temp_slider = widgets.FloatSlider(value=1., min=0.1, max=5., step=0.1, description='temperature:')\n",
    "approx_method_slider = widgets.Dropdown(\n",
    "    options=['true', \"logsumexp\", \"softmax\"],\n",
    "    value='true',\n",
    "    description='approx method:',\n",
    "    disabled=False,\n",
    ")\n",
    "interact(plot_gradients, temperature=temp_slider, approx_method=approx_method_slider)\n"
   ]
  },
  {
   "cell_type": "code",
   "execution_count": null,
   "metadata": {},
   "outputs": [],
   "source": []
  }
 ],
 "metadata": {
  "kernelspec": {
   "display_name": "stljax",
   "language": "python",
   "name": "python3"
  },
  "language_info": {
   "codemirror_mode": {
    "name": "ipython",
    "version": 3
   },
   "file_extension": ".py",
   "mimetype": "text/x-python",
   "name": "python",
   "nbconvert_exporter": "python",
   "pygments_lexer": "ipython3",
   "version": "3.12.4"
  }
 },
 "nbformat": 4,
 "nbformat_minor": 2
}
